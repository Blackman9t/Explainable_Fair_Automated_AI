{
  "nbformat": 4,
  "nbformat_minor": 0,
  "metadata": {
    "colab": {
      "name": "detecting_covid19_severity.ipynb",
      "provenance": [],
      "collapsed_sections": [],
      "authorship_tag": "ABX9TyNsGgTOmNOhXKsdDCejvCjW",
      "include_colab_link": true
    },
    "kernelspec": {
      "name": "python3",
      "display_name": "Python 3"
    },
    "accelerator": "TPU"
  },
  "cells": [
    {
      "cell_type": "markdown",
      "metadata": {
        "id": "view-in-github",
        "colab_type": "text"
      },
      "source": [
        "<a href=\"https://colab.research.google.com/github/Blackman9t/Explainable_Fair_Automated_AI/blob/master/detecting_covid19_severity.ipynb\" target=\"_parent\"><img src=\"https://colab.research.google.com/assets/colab-badge.svg\" alt=\"Open In Colab\"/></a>"
      ]
    },
    {
      "cell_type": "markdown",
      "metadata": {
        "id": "MK5R0yoEI0h1",
        "colab_type": "text"
      },
      "source": [
        "### IBM Explainability Hackathon"
      ]
    },
    {
      "cell_type": "markdown",
      "metadata": {
        "id": "xMtT0zAyFTmy",
        "colab_type": "text"
      },
      "source": [
        "<font color='yellow'>**Project Title:**</font> Detecting COVID19 Underlying Conditions: Diabetes Case Study<br>\n",
        "<font color='yellow'>**Authors:**</font> Lawrence Krukrubo<br>\n",
        "<font color='yellow'>**Date:**</font> 30th April 2020<br>"
      ]
    },
    {
      "cell_type": "markdown",
      "metadata": {
        "id": "C477xJsAItG1",
        "colab_type": "text"
      },
      "source": [
        "### Background:"
      ]
    },
    {
      "cell_type": "markdown",
      "metadata": {
        "id": "ql5L-0XiJCG_",
        "colab_type": "text"
      },
      "source": [
        "The Novel-Corona-Virus-Infectious-Disease-2019 (COVID19) which originated in Wuhan, China in Dec 2019, has spread to over 185 countries around the world and infected over 2.6 million people, with over 185,000 deaths.\n",
        "<br>See this [link](https://www.arcgis.com/apps/opsdashboard/index.html#/bda7594740fd40299423467b48e9ecf6) from the _COVID19 dashboard, by the Center for Systems, Science and Engineering at Johns Hopkins University._"
      ]
    },
    {
      "cell_type": "markdown",
      "metadata": {
        "id": "LXKGojrILLwB",
        "colab_type": "text"
      },
      "source": [
        "### **Common symptoms of COVID19**"
      ]
    },
    {
      "cell_type": "markdown",
      "metadata": {
        "id": "m_6mr1VvL8Bg",
        "colab_type": "text"
      },
      "source": [
        "Patients of all ages are being infected by COVID19, whose most common symptoms include:\n",
        ">>Coughing<br>\n",
        "Fatigue<br>\n",
        "Muscle Pain<br>\n",
        "Chest Pain<br>\n",
        "Difficulty Breathing<br>\n",
        "Pneumonia<br>\n",
        "Loss of Smell<br>\n",
        "Loss of Taste\n",
        "\n",
        "Patients range in age from toddlers of few months of age to the elderly, with oldest reported case of about 106 years old.\n",
        "<br>\n",
        "<br>\n",
        "<br>\n",
        "### **Underlying Conditions that exacerbate COVID19**\n",
        "<br>Researchers from the Center for Disease Control have identified certain underlying conditions in patients that aggravate the effects of COVID19 on patients, leading to severe illness or death. These underlying conditions include:-\n",
        "\n",
        "1. People over the age of 65 years are more likely to develop severe illnesses or death.\n",
        "2. People with chronic lung disease or moderate or severe asthma.\n",
        "3. People who are immuno-compromised, These include:-<br>\n",
        ">>cancer treatments,<br>\n",
        "Smoking,<br>\n",
        "Bone marrow or organ transplantation<br>\n",
        "Immune deficiencies<br>\n",
        "Poorly controlled HIV/AIDS<br>\n",
        "\n",
        "4. Severe obesity<br>\n",
        "5. Prolonged use of corticosteroids<br>\n",
        "6. Diabetes<br>\n",
        "7. Chronic kidney disease<br>\n",
        "8. Liver disease<br>\n",
        "\n",
        "see [link](https://www.cdc.gov/coronavirus/2019-ncov/need-extra-precautions/people-at-higher-risk.html) from the center for disease control.\n"
      ]
    },
    {
      "cell_type": "markdown",
      "metadata": {
        "id": "z6v1uIq1QswC",
        "colab_type": "text"
      },
      "source": [
        "### Project Goal:"
      ]
    },
    {
      "cell_type": "markdown",
      "metadata": {
        "id": "d_jgWlplRAzY",
        "colab_type": "text"
      },
      "source": [
        "The WHO has stated that up to 40% of COVID19 carriers may be asymptomatic. This is one major reason why the spread of the virus has been unprecedented and unrivalled in history. See [link](https://www.cdc.gov/coronavirus/2019-ncov/hcp/guidance-risk-assesment-hcp.html)\n",
        "<br>Some infected people may not display compelling symptoms, yet such people are as infectious as those severely sick.\n",
        "<br>Therefore the objective of this project is to assist medical practitioners to quickly diagnose underlying conditions in patients who may be Diabetic. This will help to quickly inform those with emerging to acute levels of Diabetes to first be aware, and secondly take immediate remedies to tackle their Diabetes on time, just incase they eventually contract the  Corona virus.<br>Early detection of underlying conditions of COVID19 will help reduce fatality rates as more people get treated for pre-conditions before exposure to COVID19."
      ]
    },
    {
      "cell_type": "markdown",
      "metadata": {
        "id": "nMxfC4SmSw4N",
        "colab_type": "text"
      },
      "source": [
        "## Data:"
      ]
    },
    {
      "cell_type": "markdown",
      "metadata": {
        "id": "BzSj7bFZW504",
        "colab_type": "text"
      },
      "source": [
        "<h4>Data Dictionary:</h4>\n",
        "\n",
        "[Kaggle-Link](https://www.kaggle.com/uciml/pima-indians-diabetes-database)<br>\n",
        "\n",
        "**Context:**<br>\n",
        "This dataset is originally from the National Institute of Diabetes and Digestive and Kidney Diseases. The objective of the dataset is to diagnostically predict whether or not a patient has diabetes, based on certain diagnostic measurements included in the dataset. Several constraints were placed on the selection of these instances from a larger database. In particular, all patients here are females at least 21 years old of Pima Indian heritage.\n",
        "\n",
        "**Content:**<br>\n",
        "The datasets consists of several medical predictor variables and one target variable, Outcome. Predictor variables includes the number of pregnancies the patient has had, their BMI, insulin level, age, and so on.\n",
        "\n",
        "**Acknowledgements:**<br>\n",
        "Smith, J.W., Everhart, J.E., Dickson, W.C., Knowler, W.C., & Johannes, R.S. (1988). Using the ADAP learning algorithm to forecast the onset of diabetes mellitus. In Proceedings of the Symposium on Computer Applications and Medical Care (pp. 261--265). IEEE Computer Society Press.\n",
        "\n",
        "**Columns:**<br>\n",
        ">>_Pregnancies_:<br>Number of times pregnant<br>\n",
        "_GlucosePlasma_:<br>glucose concentration a 2 hours in an oral glucose tolerance test<br>\n",
        "_BloodPressureDiastolic_:<br>blood pressure (mm Hg)<br>\n",
        "_SkinThicknessTriceps_: skin fold thickness (mm)<br>\n",
        "_SerumInsulin_:<br>2-Hour serum insulin (mu U/ml)<br>\n",
        "_BMIBody_:<br>Body mass index (weight in kg/(height in m)^2)<br>\n",
        "_DiabetesPedigreeFunction_:<br>Diabetes pedigree function<br>\n",
        "_Age_:<br>Age (years)<br>\n",
        "_OutcomeClass_:<br>Variable (0 or 1), 0 representing Non-diabetic and 1 Diabetic."
      ]
    },
    {
      "cell_type": "markdown",
      "metadata": {
        "id": "y2l0VbixT9qo",
        "colab_type": "text"
      },
      "source": [
        "### **Exploratory Data Analysis:**"
      ]
    },
    {
      "cell_type": "code",
      "metadata": {
        "id": "yj-UmTJmbAUC",
        "colab_type": "code",
        "outputId": "adfdb163-3a97-42bf-a3b5-c249b24633bf",
        "colab": {
          "base_uri": "https://localhost:8080/",
          "height": 87
        }
      },
      "source": [
        "# Let's import some modules\n",
        "\n",
        "try:\n",
        "    import lale\n",
        "except:\n",
        "    ! pip install lale\n",
        "    import lale\n",
        "try:\n",
        "    import aix360\n",
        "except:\n",
        "    ! pip install aix360\n",
        "    import aix360\n",
        "print('all modules imported!')"
      ],
      "execution_count": 1,
      "outputs": [
        {
          "output_type": "stream",
          "text": [
            "/usr/local/lib/python3.6/dist-packages/sklearn/utils/deprecation.py:144: FutureWarning: The sklearn.metrics.scorer module is  deprecated in version 0.22 and will be removed in version 0.24. The corresponding classes / functions should instead be imported from sklearn.metrics. Anything that cannot be imported from sklearn.metrics is now part of the private API.\n",
            "  warnings.warn(message, FutureWarning)\n"
          ],
          "name": "stderr"
        },
        {
          "output_type": "stream",
          "text": [
            "all modules imported!\n"
          ],
          "name": "stdout"
        }
      ]
    },
    {
      "cell_type": "code",
      "metadata": {
        "id": "tiymDne4LZHO",
        "colab_type": "code",
        "colab": {}
      },
      "source": [
        "# Let's import some needed libraries\n",
        "import numpy as np\n",
        "import pandas as pd\n",
        "import matplotlib.pyplot as plt\n",
        "import seaborn as sns"
      ],
      "execution_count": 0,
      "outputs": []
    },
    {
      "cell_type": "markdown",
      "metadata": {
        "id": "vNQCbRqieDDk",
        "colab_type": "text"
      },
      "source": [
        "Next, let's download both patients and doctors data sets from Github"
      ]
    },
    {
      "cell_type": "code",
      "metadata": {
        "id": "AG0fns16chOE",
        "colab_type": "code",
        "outputId": "d8e6c9dc-09b8-4d6a-abc1-72bf8f4718f4",
        "colab": {
          "base_uri": "https://localhost:8080/",
          "height": 420
        }
      },
      "source": [
        "! rm diabetes.csv  # If any file bearing this name exists, then delete first\n",
        "! wget https://raw.githubusercontent.com/Blackman9t/Machine_Learning/master/diabetes.csv # Download file\n",
        "! rm doctors.csv # If any file bearing this name exists, then delete first\n",
        "! wget https://raw.githubusercontent.com/Blackman9t/Machine_Learning/master/doctors.csv  # Download file"
      ],
      "execution_count": 3,
      "outputs": [
        {
          "output_type": "stream",
          "text": [
            "rm: cannot remove 'diabetes.csv': No such file or directory\n",
            "--2020-04-29 01:15:59--  https://raw.githubusercontent.com/Blackman9t/Machine_Learning/master/diabetes.csv\n",
            "Resolving raw.githubusercontent.com (raw.githubusercontent.com)... 151.101.0.133, 151.101.64.133, 151.101.128.133, ...\n",
            "Connecting to raw.githubusercontent.com (raw.githubusercontent.com)|151.101.0.133|:443... connected.\n",
            "HTTP request sent, awaiting response... 200 OK\n",
            "Length: 791416 (773K) [text/plain]\n",
            "Saving to: ‘diabetes.csv’\n",
            "\n",
            "diabetes.csv        100%[===================>] 772.87K  --.-KB/s    in 0.07s   \n",
            "\n",
            "2020-04-29 01:16:00 (10.9 MB/s) - ‘diabetes.csv’ saved [791416/791416]\n",
            "\n",
            "rm: cannot remove 'doctors.csv': No such file or directory\n",
            "--2020-04-29 01:16:04--  https://raw.githubusercontent.com/Blackman9t/Machine_Learning/master/doctors.csv\n",
            "Resolving raw.githubusercontent.com (raw.githubusercontent.com)... 151.101.0.133, 151.101.64.133, 151.101.128.133, ...\n",
            "Connecting to raw.githubusercontent.com (raw.githubusercontent.com)|151.101.0.133|:443... connected.\n",
            "HTTP request sent, awaiting response... 200 OK\n",
            "Length: 355601 (347K) [text/plain]\n",
            "Saving to: ‘doctors.csv’\n",
            "\n",
            "doctors.csv         100%[===================>] 347.27K  --.-KB/s    in 0.05s   \n",
            "\n",
            "2020-04-29 01:16:04 (6.19 MB/s) - ‘doctors.csv’ saved [355601/355601]\n",
            "\n"
          ],
          "name": "stdout"
        }
      ]
    },
    {
      "cell_type": "markdown",
      "metadata": {
        "id": "jF6LkvvbeTuf",
        "colab_type": "text"
      },
      "source": [
        "Let's explore the doctors data set"
      ]
    },
    {
      "cell_type": "code",
      "metadata": {
        "id": "GLLzRW8MeP5t",
        "colab_type": "code",
        "outputId": "31b12c4c-deac-4e76-bb4b-391d84f6940e",
        "colab": {
          "base_uri": "https://localhost:8080/",
          "height": 195
        }
      },
      "source": [
        "doc_df = pd.read_csv('doctors.csv', encoding='latin-1')\n",
        "doc_df.head()"
      ],
      "execution_count": 4,
      "outputs": [
        {
          "output_type": "execute_result",
          "data": {
            "text/html": [
              "<div>\n",
              "<style scoped>\n",
              "    .dataframe tbody tr th:only-of-type {\n",
              "        vertical-align: middle;\n",
              "    }\n",
              "\n",
              "    .dataframe tbody tr th {\n",
              "        vertical-align: top;\n",
              "    }\n",
              "\n",
              "    .dataframe thead th {\n",
              "        text-align: right;\n",
              "    }\n",
              "</style>\n",
              "<table border=\"1\" class=\"dataframe\">\n",
              "  <thead>\n",
              "    <tr style=\"text-align: right;\">\n",
              "      <th></th>\n",
              "      <th>PatientID</th>\n",
              "      <th>Physician</th>\n",
              "    </tr>\n",
              "  </thead>\n",
              "  <tbody>\n",
              "    <tr>\n",
              "      <th>0</th>\n",
              "      <td>1000038</td>\n",
              "      <td>Jeanne Vestergaard</td>\n",
              "    </tr>\n",
              "    <tr>\n",
              "      <th>1</th>\n",
              "      <td>1000069</td>\n",
              "      <td>Sheldon Comeaux</td>\n",
              "    </tr>\n",
              "    <tr>\n",
              "      <th>2</th>\n",
              "      <td>1000118</td>\n",
              "      <td>Brain Dulaney</td>\n",
              "    </tr>\n",
              "    <tr>\n",
              "      <th>3</th>\n",
              "      <td>1000183</td>\n",
              "      <td>Alaine Poisson</td>\n",
              "    </tr>\n",
              "    <tr>\n",
              "      <th>4</th>\n",
              "      <td>1000326</td>\n",
              "      <td>Erik Collado</td>\n",
              "    </tr>\n",
              "  </tbody>\n",
              "</table>\n",
              "</div>"
            ],
            "text/plain": [
              "   PatientID           Physician\n",
              "0    1000038  Jeanne Vestergaard\n",
              "1    1000069     Sheldon Comeaux\n",
              "2    1000118       Brain Dulaney\n",
              "3    1000183      Alaine Poisson\n",
              "4    1000326        Erik Collado"
            ]
          },
          "metadata": {
            "tags": []
          },
          "execution_count": 4
        }
      ]
    },
    {
      "cell_type": "markdown",
      "metadata": {
        "id": "pgm2LJ73gGmC",
        "colab_type": "text"
      },
      "source": [
        "Let's see the shape and summary statistics"
      ]
    },
    {
      "cell_type": "code",
      "metadata": {
        "id": "lw9DjBBoefNm",
        "colab_type": "code",
        "outputId": "b79b9d8a-a7cb-48f9-e15a-ca03a0cc8f38",
        "colab": {
          "base_uri": "https://localhost:8080/",
          "height": 34
        }
      },
      "source": [
        "doc_df.shape"
      ],
      "execution_count": 5,
      "outputs": [
        {
          "output_type": "execute_result",
          "data": {
            "text/plain": [
              "(14895, 2)"
            ]
          },
          "metadata": {
            "tags": []
          },
          "execution_count": 5
        }
      ]
    },
    {
      "cell_type": "code",
      "metadata": {
        "id": "9mwL_yTog0YO",
        "colab_type": "code",
        "outputId": "ac099011-eee6-4a49-a2dc-272da6d1da3b",
        "colab": {
          "base_uri": "https://localhost:8080/",
          "height": 77
        }
      },
      "source": [
        "# Let'see the summary statistic for numerical column \n",
        "doc_df.describe().T"
      ],
      "execution_count": 6,
      "outputs": [
        {
          "output_type": "execute_result",
          "data": {
            "text/html": [
              "<div>\n",
              "<style scoped>\n",
              "    .dataframe tbody tr th:only-of-type {\n",
              "        vertical-align: middle;\n",
              "    }\n",
              "\n",
              "    .dataframe tbody tr th {\n",
              "        vertical-align: top;\n",
              "    }\n",
              "\n",
              "    .dataframe thead th {\n",
              "        text-align: right;\n",
              "    }\n",
              "</style>\n",
              "<table border=\"1\" class=\"dataframe\">\n",
              "  <thead>\n",
              "    <tr style=\"text-align: right;\">\n",
              "      <th></th>\n",
              "      <th>count</th>\n",
              "      <th>mean</th>\n",
              "      <th>std</th>\n",
              "      <th>min</th>\n",
              "      <th>25%</th>\n",
              "      <th>50%</th>\n",
              "      <th>75%</th>\n",
              "      <th>max</th>\n",
              "    </tr>\n",
              "  </thead>\n",
              "  <tbody>\n",
              "    <tr>\n",
              "      <th>PatientID</th>\n",
              "      <td>14895.0</td>\n",
              "      <td>1.502830e+06</td>\n",
              "      <td>289327.807906</td>\n",
              "      <td>1000038.0</td>\n",
              "      <td>1252722.5</td>\n",
              "      <td>1505487.0</td>\n",
              "      <td>1755282.5</td>\n",
              "      <td>1999997.0</td>\n",
              "    </tr>\n",
              "  </tbody>\n",
              "</table>\n",
              "</div>"
            ],
            "text/plain": [
              "             count          mean  ...        75%        max\n",
              "PatientID  14895.0  1.502830e+06  ...  1755282.5  1999997.0\n",
              "\n",
              "[1 rows x 8 columns]"
            ]
          },
          "metadata": {
            "tags": []
          },
          "execution_count": 6
        }
      ]
    },
    {
      "cell_type": "code",
      "metadata": {
        "id": "FegGNLFnhKRC",
        "colab_type": "code",
        "outputId": "f12c85ba-3bdc-4c24-d5a8-034f18b45f92",
        "colab": {
          "base_uri": "https://localhost:8080/",
          "height": 77
        }
      },
      "source": [
        "# Let's see summary statistic of categorical column\n",
        "doc_df.describe(include='object').T"
      ],
      "execution_count": 7,
      "outputs": [
        {
          "output_type": "execute_result",
          "data": {
            "text/html": [
              "<div>\n",
              "<style scoped>\n",
              "    .dataframe tbody tr th:only-of-type {\n",
              "        vertical-align: middle;\n",
              "    }\n",
              "\n",
              "    .dataframe tbody tr th {\n",
              "        vertical-align: top;\n",
              "    }\n",
              "\n",
              "    .dataframe thead th {\n",
              "        text-align: right;\n",
              "    }\n",
              "</style>\n",
              "<table border=\"1\" class=\"dataframe\">\n",
              "  <thead>\n",
              "    <tr style=\"text-align: right;\">\n",
              "      <th></th>\n",
              "      <th>count</th>\n",
              "      <th>unique</th>\n",
              "      <th>top</th>\n",
              "      <th>freq</th>\n",
              "    </tr>\n",
              "  </thead>\n",
              "  <tbody>\n",
              "    <tr>\n",
              "      <th>Physician</th>\n",
              "      <td>14895</td>\n",
              "      <td>109</td>\n",
              "      <td>Anthony Frizzell</td>\n",
              "      <td>156</td>\n",
              "    </tr>\n",
              "  </tbody>\n",
              "</table>\n",
              "</div>"
            ],
            "text/plain": [
              "           count unique               top freq\n",
              "Physician  14895    109  Anthony Frizzell  156"
            ]
          },
          "metadata": {
            "tags": []
          },
          "execution_count": 7
        }
      ]
    },
    {
      "cell_type": "markdown",
      "metadata": {
        "id": "FiZCqo5Nhm9t",
        "colab_type": "text"
      },
      "source": [
        "**The summary statistics of the Doctor's data frame tell us the following:**\n",
        "1. There's only one numerical column - PatientID, which has observations for 14895 patients. Each ID is an identifier for each patient that doctors treat.\n",
        "2. The Physician column has 14895 entries too. But unique entries are only 109. This means even though we have patients IDs of 14895 patients, these patients are treated or administered by only 109 doctors.\n",
        "3. The doctors that have the highest number of patients are Dr. Dan Drayton and Dr. Anthony Frizzel with 156 patients each."
      ]
    },
    {
      "cell_type": "code",
      "metadata": {
        "id": "iQAnjraEhZsA",
        "colab_type": "code",
        "outputId": "fbe82ade-6e87-47b7-d701-7088e2a5d6fd",
        "colab": {
          "base_uri": "https://localhost:8080/",
          "height": 373
        }
      },
      "source": [
        "x = pd.DataFrame(doc_df.groupby(['Physician']).size())\n",
        "x.columns = ['Count']\n",
        "x = x.sort_values('Count', ascending=False).head(10)\n",
        "x"
      ],
      "execution_count": 8,
      "outputs": [
        {
          "output_type": "execute_result",
          "data": {
            "text/html": [
              "<div>\n",
              "<style scoped>\n",
              "    .dataframe tbody tr th:only-of-type {\n",
              "        vertical-align: middle;\n",
              "    }\n",
              "\n",
              "    .dataframe tbody tr th {\n",
              "        vertical-align: top;\n",
              "    }\n",
              "\n",
              "    .dataframe thead th {\n",
              "        text-align: right;\n",
              "    }\n",
              "</style>\n",
              "<table border=\"1\" class=\"dataframe\">\n",
              "  <thead>\n",
              "    <tr style=\"text-align: right;\">\n",
              "      <th></th>\n",
              "      <th>Count</th>\n",
              "    </tr>\n",
              "    <tr>\n",
              "      <th>Physician</th>\n",
              "      <th></th>\n",
              "    </tr>\n",
              "  </thead>\n",
              "  <tbody>\n",
              "    <tr>\n",
              "      <th>Dan Drayton</th>\n",
              "      <td>156</td>\n",
              "    </tr>\n",
              "    <tr>\n",
              "      <th>Anthony Frizzell</th>\n",
              "      <td>156</td>\n",
              "    </tr>\n",
              "    <tr>\n",
              "      <th>Gordon Fredrickson</th>\n",
              "      <td>155</td>\n",
              "    </tr>\n",
              "    <tr>\n",
              "      <th>Zachary Fellows</th>\n",
              "      <td>155</td>\n",
              "    </tr>\n",
              "    <tr>\n",
              "      <th>Chad Corbitt</th>\n",
              "      <td>154</td>\n",
              "    </tr>\n",
              "    <tr>\n",
              "      <th>Neandro Baeza</th>\n",
              "      <td>137</td>\n",
              "    </tr>\n",
              "    <tr>\n",
              "      <th>Dwayne Passmore</th>\n",
              "      <td>137</td>\n",
              "    </tr>\n",
              "    <tr>\n",
              "      <th>Janna Gamble</th>\n",
              "      <td>137</td>\n",
              "    </tr>\n",
              "    <tr>\n",
              "      <th>Daisuke Nakayama</th>\n",
              "      <td>137</td>\n",
              "    </tr>\n",
              "    <tr>\n",
              "      <th>Daitaro Ishida</th>\n",
              "      <td>137</td>\n",
              "    </tr>\n",
              "  </tbody>\n",
              "</table>\n",
              "</div>"
            ],
            "text/plain": [
              "                    Count\n",
              "Physician                \n",
              "Dan Drayton           156\n",
              "Anthony Frizzell      156\n",
              "Gordon Fredrickson    155\n",
              "Zachary Fellows       155\n",
              "Chad Corbitt          154\n",
              "Neandro Baeza         137\n",
              "Dwayne Passmore       137\n",
              "Janna Gamble          137\n",
              "Daisuke Nakayama      137\n",
              "Daitaro Ishida        137"
            ]
          },
          "metadata": {
            "tags": []
          },
          "execution_count": 8
        }
      ]
    },
    {
      "cell_type": "markdown",
      "metadata": {
        "id": "cUP8MzKZohEQ",
        "colab_type": "text"
      },
      "source": [
        "From the code above, we can see the number of patients each doctor treated. It's showing the 10 doctors with highest count of patients and just as we saw in the summary above, Drs. Dan Drayton and Anthony Frizzell have the highest number of patients."
      ]
    },
    {
      "cell_type": "markdown",
      "metadata": {
        "id": "pATSNnoqB8WQ",
        "colab_type": "text"
      },
      "source": [
        "Let's explore the Patients Diabetes data frame"
      ]
    },
    {
      "cell_type": "code",
      "metadata": {
        "id": "wf-Pv_V8o7TN",
        "colab_type": "code",
        "outputId": "f00c9411-fc0a-438e-d31b-01ff192a004e",
        "colab": {
          "base_uri": "https://localhost:8080/",
          "height": 195
        }
      },
      "source": [
        "patients_df = pd.read_csv('diabetes.csv')\n",
        "patients_df.head()"
      ],
      "execution_count": 9,
      "outputs": [
        {
          "output_type": "execute_result",
          "data": {
            "text/html": [
              "<div>\n",
              "<style scoped>\n",
              "    .dataframe tbody tr th:only-of-type {\n",
              "        vertical-align: middle;\n",
              "    }\n",
              "\n",
              "    .dataframe tbody tr th {\n",
              "        vertical-align: top;\n",
              "    }\n",
              "\n",
              "    .dataframe thead th {\n",
              "        text-align: right;\n",
              "    }\n",
              "</style>\n",
              "<table border=\"1\" class=\"dataframe\">\n",
              "  <thead>\n",
              "    <tr style=\"text-align: right;\">\n",
              "      <th></th>\n",
              "      <th>PatientID</th>\n",
              "      <th>Pregnancies</th>\n",
              "      <th>PlasmaGlucose</th>\n",
              "      <th>DiastolicBloodPressure</th>\n",
              "      <th>TricepsThickness</th>\n",
              "      <th>SerumInsulin</th>\n",
              "      <th>BMI</th>\n",
              "      <th>DiabetesPedigree</th>\n",
              "      <th>Age</th>\n",
              "      <th>Diabetic</th>\n",
              "    </tr>\n",
              "  </thead>\n",
              "  <tbody>\n",
              "    <tr>\n",
              "      <th>0</th>\n",
              "      <td>1354778</td>\n",
              "      <td>0</td>\n",
              "      <td>171</td>\n",
              "      <td>80</td>\n",
              "      <td>34</td>\n",
              "      <td>23</td>\n",
              "      <td>43.509726</td>\n",
              "      <td>1.213191</td>\n",
              "      <td>21</td>\n",
              "      <td>0</td>\n",
              "    </tr>\n",
              "    <tr>\n",
              "      <th>1</th>\n",
              "      <td>1147438</td>\n",
              "      <td>8</td>\n",
              "      <td>92</td>\n",
              "      <td>93</td>\n",
              "      <td>47</td>\n",
              "      <td>36</td>\n",
              "      <td>21.240576</td>\n",
              "      <td>0.158365</td>\n",
              "      <td>23</td>\n",
              "      <td>0</td>\n",
              "    </tr>\n",
              "    <tr>\n",
              "      <th>2</th>\n",
              "      <td>1640031</td>\n",
              "      <td>7</td>\n",
              "      <td>115</td>\n",
              "      <td>47</td>\n",
              "      <td>52</td>\n",
              "      <td>35</td>\n",
              "      <td>41.511523</td>\n",
              "      <td>0.079019</td>\n",
              "      <td>23</td>\n",
              "      <td>0</td>\n",
              "    </tr>\n",
              "    <tr>\n",
              "      <th>3</th>\n",
              "      <td>1883350</td>\n",
              "      <td>9</td>\n",
              "      <td>103</td>\n",
              "      <td>78</td>\n",
              "      <td>25</td>\n",
              "      <td>304</td>\n",
              "      <td>29.582192</td>\n",
              "      <td>1.282870</td>\n",
              "      <td>43</td>\n",
              "      <td>1</td>\n",
              "    </tr>\n",
              "    <tr>\n",
              "      <th>4</th>\n",
              "      <td>1424119</td>\n",
              "      <td>1</td>\n",
              "      <td>85</td>\n",
              "      <td>59</td>\n",
              "      <td>27</td>\n",
              "      <td>35</td>\n",
              "      <td>42.604536</td>\n",
              "      <td>0.549542</td>\n",
              "      <td>22</td>\n",
              "      <td>0</td>\n",
              "    </tr>\n",
              "  </tbody>\n",
              "</table>\n",
              "</div>"
            ],
            "text/plain": [
              "   PatientID  Pregnancies  PlasmaGlucose  ...  DiabetesPedigree  Age  Diabetic\n",
              "0    1354778            0            171  ...          1.213191   21         0\n",
              "1    1147438            8             92  ...          0.158365   23         0\n",
              "2    1640031            7            115  ...          0.079019   23         0\n",
              "3    1883350            9            103  ...          1.282870   43         1\n",
              "4    1424119            1             85  ...          0.549542   22         0\n",
              "\n",
              "[5 rows x 10 columns]"
            ]
          },
          "metadata": {
            "tags": []
          },
          "execution_count": 9
        }
      ]
    },
    {
      "cell_type": "code",
      "metadata": {
        "id": "VIZ3OOlQCRzd",
        "colab_type": "code",
        "outputId": "b7f76f16-e18b-4d67-bbf1-c7682c3936de",
        "colab": {
          "base_uri": "https://localhost:8080/",
          "height": 34
        }
      },
      "source": [
        "# Let's see the shape\n",
        "patients_df.shape"
      ],
      "execution_count": 10,
      "outputs": [
        {
          "output_type": "execute_result",
          "data": {
            "text/plain": [
              "(15000, 10)"
            ]
          },
          "metadata": {
            "tags": []
          },
          "execution_count": 10
        }
      ]
    },
    {
      "cell_type": "markdown",
      "metadata": {
        "id": "-ZOGSXHsDZO1",
        "colab_type": "text"
      },
      "source": [
        "The Patients data frame has 15000 observations, we remember that the doctors data frame had 14895 observations. There's some difference. let's try to find out wht"
      ]
    },
    {
      "cell_type": "code",
      "metadata": {
        "id": "Lv_2hT0kCZg5",
        "colab_type": "code",
        "outputId": "48538089-216d-46dd-c0e0-db37ff51348c",
        "colab": {
          "base_uri": "https://localhost:8080/",
          "height": 34
        }
      },
      "source": [
        "patients_df.PatientID.nunique()"
      ],
      "execution_count": 11,
      "outputs": [
        {
          "output_type": "execute_result",
          "data": {
            "text/plain": [
              "14895"
            ]
          },
          "metadata": {
            "tags": []
          },
          "execution_count": 11
        }
      ]
    },
    {
      "cell_type": "markdown",
      "metadata": {
        "id": "uq13WYHmD8gb",
        "colab_type": "text"
      },
      "source": [
        "With the above code we checked for the number of unique patients ID in the patients data frame. And consequently, we have the same 14895 unique observations as the doctors data frame.This possibly means there are some patient IDs with multiple entries in the data set. Let's investigate that.<br> first let's see if there are Patient IDs in the patients data frame not in the doctors data frame."
      ]
    },
    {
      "cell_type": "code",
      "metadata": {
        "id": "XexIIIc-C2ky",
        "colab_type": "code",
        "outputId": "e166cefe-aeae-4dd2-983c-51a0b2c0fe3e",
        "colab": {
          "base_uri": "https://localhost:8080/",
          "height": 34
        }
      },
      "source": [
        "set(patients_df.PatientID).difference(set(doc_df.PatientID))"
      ],
      "execution_count": 12,
      "outputs": [
        {
          "output_type": "execute_result",
          "data": {
            "text/plain": [
              "set()"
            ]
          },
          "metadata": {
            "tags": []
          },
          "execution_count": 12
        }
      ]
    },
    {
      "cell_type": "markdown",
      "metadata": {
        "id": "sY1sFLPCFdeD",
        "colab_type": "text"
      },
      "source": [
        "The empty set above indicates that the PatientID columns of both data sets have identical elements.<br>So this means the 15000 observations in the patients_df include duplicated entries for some patients. \n"
      ]
    },
    {
      "cell_type": "markdown",
      "metadata": {
        "id": "9Pl7SAhfU1yy",
        "colab_type": "text"
      },
      "source": [
        "<h4>Merging both data frames</h4>\n",
        "Since we've established that both patients and doctors data frames have the same PatientID index. Let's merge them both on PatientID "
      ]
    },
    {
      "cell_type": "code",
      "metadata": {
        "id": "K3e_wrMtE5LS",
        "colab_type": "code",
        "outputId": "5416e18a-8f3a-4410-cdb2-5fbd7fbd26b9",
        "colab": {
          "base_uri": "https://localhost:8080/",
          "height": 212
        }
      },
      "source": [
        "diabetes_df = patients_df.merge(doc_df, how= 'inner', on= 'PatientID')\n",
        "print(f'The shape of diabetes_df is {diabetes_df.shape}')\n",
        "diabetes_df.head()"
      ],
      "execution_count": 13,
      "outputs": [
        {
          "output_type": "stream",
          "text": [
            "The shape of diabetes_df is (15000, 11)\n"
          ],
          "name": "stdout"
        },
        {
          "output_type": "execute_result",
          "data": {
            "text/html": [
              "<div>\n",
              "<style scoped>\n",
              "    .dataframe tbody tr th:only-of-type {\n",
              "        vertical-align: middle;\n",
              "    }\n",
              "\n",
              "    .dataframe tbody tr th {\n",
              "        vertical-align: top;\n",
              "    }\n",
              "\n",
              "    .dataframe thead th {\n",
              "        text-align: right;\n",
              "    }\n",
              "</style>\n",
              "<table border=\"1\" class=\"dataframe\">\n",
              "  <thead>\n",
              "    <tr style=\"text-align: right;\">\n",
              "      <th></th>\n",
              "      <th>PatientID</th>\n",
              "      <th>Pregnancies</th>\n",
              "      <th>PlasmaGlucose</th>\n",
              "      <th>DiastolicBloodPressure</th>\n",
              "      <th>TricepsThickness</th>\n",
              "      <th>SerumInsulin</th>\n",
              "      <th>BMI</th>\n",
              "      <th>DiabetesPedigree</th>\n",
              "      <th>Age</th>\n",
              "      <th>Diabetic</th>\n",
              "      <th>Physician</th>\n",
              "    </tr>\n",
              "  </thead>\n",
              "  <tbody>\n",
              "    <tr>\n",
              "      <th>0</th>\n",
              "      <td>1354778</td>\n",
              "      <td>0</td>\n",
              "      <td>171</td>\n",
              "      <td>80</td>\n",
              "      <td>34</td>\n",
              "      <td>23</td>\n",
              "      <td>43.509726</td>\n",
              "      <td>1.213191</td>\n",
              "      <td>21</td>\n",
              "      <td>0</td>\n",
              "      <td>Dan Drayton</td>\n",
              "    </tr>\n",
              "    <tr>\n",
              "      <th>1</th>\n",
              "      <td>1147438</td>\n",
              "      <td>8</td>\n",
              "      <td>92</td>\n",
              "      <td>93</td>\n",
              "      <td>47</td>\n",
              "      <td>36</td>\n",
              "      <td>21.240576</td>\n",
              "      <td>0.158365</td>\n",
              "      <td>23</td>\n",
              "      <td>0</td>\n",
              "      <td>Anthony Frizzell</td>\n",
              "    </tr>\n",
              "    <tr>\n",
              "      <th>2</th>\n",
              "      <td>1640031</td>\n",
              "      <td>7</td>\n",
              "      <td>115</td>\n",
              "      <td>47</td>\n",
              "      <td>52</td>\n",
              "      <td>35</td>\n",
              "      <td>41.511523</td>\n",
              "      <td>0.079019</td>\n",
              "      <td>23</td>\n",
              "      <td>0</td>\n",
              "      <td>Gordon Fredrickson</td>\n",
              "    </tr>\n",
              "    <tr>\n",
              "      <th>3</th>\n",
              "      <td>1883350</td>\n",
              "      <td>9</td>\n",
              "      <td>103</td>\n",
              "      <td>78</td>\n",
              "      <td>25</td>\n",
              "      <td>304</td>\n",
              "      <td>29.582192</td>\n",
              "      <td>1.282870</td>\n",
              "      <td>43</td>\n",
              "      <td>1</td>\n",
              "      <td>Chad Corbitt</td>\n",
              "    </tr>\n",
              "    <tr>\n",
              "      <th>4</th>\n",
              "      <td>1424119</td>\n",
              "      <td>1</td>\n",
              "      <td>85</td>\n",
              "      <td>59</td>\n",
              "      <td>27</td>\n",
              "      <td>35</td>\n",
              "      <td>42.604536</td>\n",
              "      <td>0.549542</td>\n",
              "      <td>22</td>\n",
              "      <td>0</td>\n",
              "      <td>Zachary Fellows</td>\n",
              "    </tr>\n",
              "  </tbody>\n",
              "</table>\n",
              "</div>"
            ],
            "text/plain": [
              "   PatientID  Pregnancies  PlasmaGlucose  ...  Age  Diabetic           Physician\n",
              "0    1354778            0            171  ...   21         0         Dan Drayton\n",
              "1    1147438            8             92  ...   23         0    Anthony Frizzell\n",
              "2    1640031            7            115  ...   23         0  Gordon Fredrickson\n",
              "3    1883350            9            103  ...   43         1        Chad Corbitt\n",
              "4    1424119            1             85  ...   22         0     Zachary Fellows\n",
              "\n",
              "[5 rows x 11 columns]"
            ]
          },
          "metadata": {
            "tags": []
          },
          "execution_count": 13
        }
      ]
    },
    {
      "cell_type": "markdown",
      "metadata": {
        "id": "xVSG_FL2HEwJ",
        "colab_type": "text"
      },
      "source": [
        "Let's slice out the patients who have more than one entry in the diabtes_df data frame"
      ]
    },
    {
      "cell_type": "code",
      "metadata": {
        "id": "sRvkw0MtHBmm",
        "colab_type": "code",
        "colab": {}
      },
      "source": [
        "duplicate_patients = [x for x in diabetes_df.PatientID if list(diabetes_df.PatientID).count(x) > 1]\n",
        "\n",
        "# Now let's ensure no PatientID appears twice in our list\n",
        "duplicate_patients = list(set(duplicate_patients))"
      ],
      "execution_count": 0,
      "outputs": []
    },
    {
      "cell_type": "markdown",
      "metadata": {
        "id": "EhRaqKDCKOz-",
        "colab_type": "text"
      },
      "source": [
        "Let's see how many patients have duplicate records in the data set"
      ]
    },
    {
      "cell_type": "code",
      "metadata": {
        "id": "ojtwMwtkIFxE",
        "colab_type": "code",
        "outputId": "766dbd95-16a1-4413-9d99-2c9e55b6e92e",
        "colab": {
          "base_uri": "https://localhost:8080/",
          "height": 34
        }
      },
      "source": [
        "len(duplicate_patients)"
      ],
      "execution_count": 15,
      "outputs": [
        {
          "output_type": "execute_result",
          "data": {
            "text/plain": [
              "105"
            ]
          },
          "metadata": {
            "tags": []
          },
          "execution_count": 15
        }
      ]
    },
    {
      "cell_type": "markdown",
      "metadata": {
        "id": "1Y-a7M1UKYeK",
        "colab_type": "text"
      },
      "source": [
        "Now let's see the records of only these 105 Patients that have multiple records in the data set"
      ]
    },
    {
      "cell_type": "code",
      "metadata": {
        "id": "zftiL6SNKgtS",
        "colab_type": "code",
        "outputId": "9d2220ca-96f9-4f08-b83c-5346d7db528b",
        "colab": {
          "base_uri": "https://localhost:8080/",
          "height": 225
        }
      },
      "source": [
        "# First let's make a copy of the diabetes _df\n",
        "copy = diabetes_df.copy(deep=True)\n",
        "\n",
        "# Next let's make the PatientID column the index so we can sort with it\n",
        "copy.index = copy.PatientID\n",
        "\n",
        "# So let's drop the PatientID column, since it's also the index.\n",
        "copy.drop(['PatientID'], axis=1, inplace=True)\n",
        "\n",
        "# Let's see the first five rows\n",
        "copy.head()"
      ],
      "execution_count": 16,
      "outputs": [
        {
          "output_type": "execute_result",
          "data": {
            "text/html": [
              "<div>\n",
              "<style scoped>\n",
              "    .dataframe tbody tr th:only-of-type {\n",
              "        vertical-align: middle;\n",
              "    }\n",
              "\n",
              "    .dataframe tbody tr th {\n",
              "        vertical-align: top;\n",
              "    }\n",
              "\n",
              "    .dataframe thead th {\n",
              "        text-align: right;\n",
              "    }\n",
              "</style>\n",
              "<table border=\"1\" class=\"dataframe\">\n",
              "  <thead>\n",
              "    <tr style=\"text-align: right;\">\n",
              "      <th></th>\n",
              "      <th>Pregnancies</th>\n",
              "      <th>PlasmaGlucose</th>\n",
              "      <th>DiastolicBloodPressure</th>\n",
              "      <th>TricepsThickness</th>\n",
              "      <th>SerumInsulin</th>\n",
              "      <th>BMI</th>\n",
              "      <th>DiabetesPedigree</th>\n",
              "      <th>Age</th>\n",
              "      <th>Diabetic</th>\n",
              "      <th>Physician</th>\n",
              "    </tr>\n",
              "    <tr>\n",
              "      <th>PatientID</th>\n",
              "      <th></th>\n",
              "      <th></th>\n",
              "      <th></th>\n",
              "      <th></th>\n",
              "      <th></th>\n",
              "      <th></th>\n",
              "      <th></th>\n",
              "      <th></th>\n",
              "      <th></th>\n",
              "      <th></th>\n",
              "    </tr>\n",
              "  </thead>\n",
              "  <tbody>\n",
              "    <tr>\n",
              "      <th>1354778</th>\n",
              "      <td>0</td>\n",
              "      <td>171</td>\n",
              "      <td>80</td>\n",
              "      <td>34</td>\n",
              "      <td>23</td>\n",
              "      <td>43.509726</td>\n",
              "      <td>1.213191</td>\n",
              "      <td>21</td>\n",
              "      <td>0</td>\n",
              "      <td>Dan Drayton</td>\n",
              "    </tr>\n",
              "    <tr>\n",
              "      <th>1147438</th>\n",
              "      <td>8</td>\n",
              "      <td>92</td>\n",
              "      <td>93</td>\n",
              "      <td>47</td>\n",
              "      <td>36</td>\n",
              "      <td>21.240576</td>\n",
              "      <td>0.158365</td>\n",
              "      <td>23</td>\n",
              "      <td>0</td>\n",
              "      <td>Anthony Frizzell</td>\n",
              "    </tr>\n",
              "    <tr>\n",
              "      <th>1640031</th>\n",
              "      <td>7</td>\n",
              "      <td>115</td>\n",
              "      <td>47</td>\n",
              "      <td>52</td>\n",
              "      <td>35</td>\n",
              "      <td>41.511523</td>\n",
              "      <td>0.079019</td>\n",
              "      <td>23</td>\n",
              "      <td>0</td>\n",
              "      <td>Gordon Fredrickson</td>\n",
              "    </tr>\n",
              "    <tr>\n",
              "      <th>1883350</th>\n",
              "      <td>9</td>\n",
              "      <td>103</td>\n",
              "      <td>78</td>\n",
              "      <td>25</td>\n",
              "      <td>304</td>\n",
              "      <td>29.582192</td>\n",
              "      <td>1.282870</td>\n",
              "      <td>43</td>\n",
              "      <td>1</td>\n",
              "      <td>Chad Corbitt</td>\n",
              "    </tr>\n",
              "    <tr>\n",
              "      <th>1424119</th>\n",
              "      <td>1</td>\n",
              "      <td>85</td>\n",
              "      <td>59</td>\n",
              "      <td>27</td>\n",
              "      <td>35</td>\n",
              "      <td>42.604536</td>\n",
              "      <td>0.549542</td>\n",
              "      <td>22</td>\n",
              "      <td>0</td>\n",
              "      <td>Zachary Fellows</td>\n",
              "    </tr>\n",
              "  </tbody>\n",
              "</table>\n",
              "</div>"
            ],
            "text/plain": [
              "           Pregnancies  PlasmaGlucose  ...  Diabetic           Physician\n",
              "PatientID                              ...                              \n",
              "1354778              0            171  ...         0         Dan Drayton\n",
              "1147438              8             92  ...         0    Anthony Frizzell\n",
              "1640031              7            115  ...         0  Gordon Fredrickson\n",
              "1883350              9            103  ...         1        Chad Corbitt\n",
              "1424119              1             85  ...         0     Zachary Fellows\n",
              "\n",
              "[5 rows x 10 columns]"
            ]
          },
          "metadata": {
            "tags": []
          },
          "execution_count": 16
        }
      ]
    },
    {
      "cell_type": "markdown",
      "metadata": {
        "id": "Bfh5TvrqRVvr",
        "colab_type": "text"
      },
      "source": [
        "Finally let's select only those index that are in our duplicated patients list"
      ]
    },
    {
      "cell_type": "code",
      "metadata": {
        "id": "h8_3wr2uNSrx",
        "colab_type": "code",
        "outputId": "a6c5085f-fc2d-46e2-c2ed-d6ae3c2e2e9d",
        "colab": {
          "base_uri": "https://localhost:8080/",
          "height": 669
        }
      },
      "source": [
        "duplicate_df = copy.loc[duplicate_patients]\n",
        "\n",
        "# Let's see the first 20 entries\n",
        "duplicate_df.iloc[:20]"
      ],
      "execution_count": 17,
      "outputs": [
        {
          "output_type": "execute_result",
          "data": {
            "text/html": [
              "<div>\n",
              "<style scoped>\n",
              "    .dataframe tbody tr th:only-of-type {\n",
              "        vertical-align: middle;\n",
              "    }\n",
              "\n",
              "    .dataframe tbody tr th {\n",
              "        vertical-align: top;\n",
              "    }\n",
              "\n",
              "    .dataframe thead th {\n",
              "        text-align: right;\n",
              "    }\n",
              "</style>\n",
              "<table border=\"1\" class=\"dataframe\">\n",
              "  <thead>\n",
              "    <tr style=\"text-align: right;\">\n",
              "      <th></th>\n",
              "      <th>Pregnancies</th>\n",
              "      <th>PlasmaGlucose</th>\n",
              "      <th>DiastolicBloodPressure</th>\n",
              "      <th>TricepsThickness</th>\n",
              "      <th>SerumInsulin</th>\n",
              "      <th>BMI</th>\n",
              "      <th>DiabetesPedigree</th>\n",
              "      <th>Age</th>\n",
              "      <th>Diabetic</th>\n",
              "      <th>Physician</th>\n",
              "    </tr>\n",
              "    <tr>\n",
              "      <th>PatientID</th>\n",
              "      <th></th>\n",
              "      <th></th>\n",
              "      <th></th>\n",
              "      <th></th>\n",
              "      <th></th>\n",
              "      <th></th>\n",
              "      <th></th>\n",
              "      <th></th>\n",
              "      <th></th>\n",
              "      <th></th>\n",
              "    </tr>\n",
              "  </thead>\n",
              "  <tbody>\n",
              "    <tr>\n",
              "      <th>1399297</th>\n",
              "      <td>1</td>\n",
              "      <td>92</td>\n",
              "      <td>52</td>\n",
              "      <td>17</td>\n",
              "      <td>298</td>\n",
              "      <td>21.578214</td>\n",
              "      <td>0.722903</td>\n",
              "      <td>35</td>\n",
              "      <td>0</td>\n",
              "      <td>Vaughn Oquendo</td>\n",
              "    </tr>\n",
              "    <tr>\n",
              "      <th>1399297</th>\n",
              "      <td>1</td>\n",
              "      <td>68</td>\n",
              "      <td>41</td>\n",
              "      <td>16</td>\n",
              "      <td>38</td>\n",
              "      <td>40.545227</td>\n",
              "      <td>0.203020</td>\n",
              "      <td>24</td>\n",
              "      <td>0</td>\n",
              "      <td>Vaughn Oquendo</td>\n",
              "    </tr>\n",
              "    <tr>\n",
              "      <th>1940995</th>\n",
              "      <td>0</td>\n",
              "      <td>73</td>\n",
              "      <td>95</td>\n",
              "      <td>31</td>\n",
              "      <td>82</td>\n",
              "      <td>21.032093</td>\n",
              "      <td>0.094041</td>\n",
              "      <td>23</td>\n",
              "      <td>0</td>\n",
              "      <td>Germain Arenas</td>\n",
              "    </tr>\n",
              "    <tr>\n",
              "      <th>1940995</th>\n",
              "      <td>2</td>\n",
              "      <td>105</td>\n",
              "      <td>99</td>\n",
              "      <td>40</td>\n",
              "      <td>65</td>\n",
              "      <td>31.879179</td>\n",
              "      <td>0.194376</td>\n",
              "      <td>21</td>\n",
              "      <td>1</td>\n",
              "      <td>Germain Arenas</td>\n",
              "    </tr>\n",
              "    <tr>\n",
              "      <th>1623043</th>\n",
              "      <td>1</td>\n",
              "      <td>83</td>\n",
              "      <td>92</td>\n",
              "      <td>11</td>\n",
              "      <td>160</td>\n",
              "      <td>21.637582</td>\n",
              "      <td>0.154840</td>\n",
              "      <td>22</td>\n",
              "      <td>0</td>\n",
              "      <td>Dan Drayton</td>\n",
              "    </tr>\n",
              "    <tr>\n",
              "      <th>1623043</th>\n",
              "      <td>6</td>\n",
              "      <td>105</td>\n",
              "      <td>47</td>\n",
              "      <td>35</td>\n",
              "      <td>38</td>\n",
              "      <td>25.735653</td>\n",
              "      <td>0.189689</td>\n",
              "      <td>23</td>\n",
              "      <td>1</td>\n",
              "      <td>Dan Drayton</td>\n",
              "    </tr>\n",
              "    <tr>\n",
              "      <th>1772038</th>\n",
              "      <td>5</td>\n",
              "      <td>144</td>\n",
              "      <td>72</td>\n",
              "      <td>50</td>\n",
              "      <td>65</td>\n",
              "      <td>31.657260</td>\n",
              "      <td>0.082558</td>\n",
              "      <td>46</td>\n",
              "      <td>1</td>\n",
              "      <td>Alaine Poisson</td>\n",
              "    </tr>\n",
              "    <tr>\n",
              "      <th>1772038</th>\n",
              "      <td>4</td>\n",
              "      <td>138</td>\n",
              "      <td>60</td>\n",
              "      <td>28</td>\n",
              "      <td>96</td>\n",
              "      <td>38.800058</td>\n",
              "      <td>0.730051</td>\n",
              "      <td>52</td>\n",
              "      <td>1</td>\n",
              "      <td>Alaine Poisson</td>\n",
              "    </tr>\n",
              "    <tr>\n",
              "      <th>1104393</th>\n",
              "      <td>0</td>\n",
              "      <td>158</td>\n",
              "      <td>87</td>\n",
              "      <td>9</td>\n",
              "      <td>25</td>\n",
              "      <td>19.531718</td>\n",
              "      <td>0.118134</td>\n",
              "      <td>23</td>\n",
              "      <td>0</td>\n",
              "      <td>Vinicio Robles</td>\n",
              "    </tr>\n",
              "    <tr>\n",
              "      <th>1104393</th>\n",
              "      <td>7</td>\n",
              "      <td>144</td>\n",
              "      <td>97</td>\n",
              "      <td>20</td>\n",
              "      <td>168</td>\n",
              "      <td>42.210645</td>\n",
              "      <td>1.046933</td>\n",
              "      <td>49</td>\n",
              "      <td>0</td>\n",
              "      <td>Vinicio Robles</td>\n",
              "    </tr>\n",
              "    <tr>\n",
              "      <th>1867795</th>\n",
              "      <td>11</td>\n",
              "      <td>122</td>\n",
              "      <td>86</td>\n",
              "      <td>51</td>\n",
              "      <td>287</td>\n",
              "      <td>34.052230</td>\n",
              "      <td>0.097248</td>\n",
              "      <td>29</td>\n",
              "      <td>1</td>\n",
              "      <td>Dwayne Passmore</td>\n",
              "    </tr>\n",
              "    <tr>\n",
              "      <th>1867795</th>\n",
              "      <td>0</td>\n",
              "      <td>80</td>\n",
              "      <td>57</td>\n",
              "      <td>15</td>\n",
              "      <td>26</td>\n",
              "      <td>50.876221</td>\n",
              "      <td>0.593496</td>\n",
              "      <td>22</td>\n",
              "      <td>0</td>\n",
              "      <td>Dwayne Passmore</td>\n",
              "    </tr>\n",
              "    <tr>\n",
              "      <th>1382420</th>\n",
              "      <td>0</td>\n",
              "      <td>115</td>\n",
              "      <td>56</td>\n",
              "      <td>10</td>\n",
              "      <td>181</td>\n",
              "      <td>51.326693</td>\n",
              "      <td>0.149021</td>\n",
              "      <td>25</td>\n",
              "      <td>0</td>\n",
              "      <td>Lonnie Schindler</td>\n",
              "    </tr>\n",
              "    <tr>\n",
              "      <th>1382420</th>\n",
              "      <td>4</td>\n",
              "      <td>96</td>\n",
              "      <td>54</td>\n",
              "      <td>49</td>\n",
              "      <td>55</td>\n",
              "      <td>22.031759</td>\n",
              "      <td>0.537598</td>\n",
              "      <td>21</td>\n",
              "      <td>0</td>\n",
              "      <td>Lonnie Schindler</td>\n",
              "    </tr>\n",
              "    <tr>\n",
              "      <th>1998870</th>\n",
              "      <td>0</td>\n",
              "      <td>95</td>\n",
              "      <td>88</td>\n",
              "      <td>17</td>\n",
              "      <td>166</td>\n",
              "      <td>24.224505</td>\n",
              "      <td>0.146521</td>\n",
              "      <td>26</td>\n",
              "      <td>0</td>\n",
              "      <td>Margret Villarreal</td>\n",
              "    </tr>\n",
              "    <tr>\n",
              "      <th>1998870</th>\n",
              "      <td>8</td>\n",
              "      <td>118</td>\n",
              "      <td>72</td>\n",
              "      <td>39</td>\n",
              "      <td>68</td>\n",
              "      <td>25.226202</td>\n",
              "      <td>0.574688</td>\n",
              "      <td>22</td>\n",
              "      <td>1</td>\n",
              "      <td>Margret Villarreal</td>\n",
              "    </tr>\n",
              "    <tr>\n",
              "      <th>1653789</th>\n",
              "      <td>0</td>\n",
              "      <td>81</td>\n",
              "      <td>50</td>\n",
              "      <td>8</td>\n",
              "      <td>211</td>\n",
              "      <td>26.049610</td>\n",
              "      <td>0.122352</td>\n",
              "      <td>23</td>\n",
              "      <td>0</td>\n",
              "      <td>Aaliyah Briggs</td>\n",
              "    </tr>\n",
              "    <tr>\n",
              "      <th>1653789</th>\n",
              "      <td>2</td>\n",
              "      <td>118</td>\n",
              "      <td>86</td>\n",
              "      <td>27</td>\n",
              "      <td>41</td>\n",
              "      <td>36.872411</td>\n",
              "      <td>0.260180</td>\n",
              "      <td>21</td>\n",
              "      <td>1</td>\n",
              "      <td>Aaliyah Briggs</td>\n",
              "    </tr>\n",
              "    <tr>\n",
              "      <th>1612832</th>\n",
              "      <td>6</td>\n",
              "      <td>90</td>\n",
              "      <td>64</td>\n",
              "      <td>10</td>\n",
              "      <td>25</td>\n",
              "      <td>42.597435</td>\n",
              "      <td>0.161129</td>\n",
              "      <td>23</td>\n",
              "      <td>0</td>\n",
              "      <td>Modesto Cabán</td>\n",
              "    </tr>\n",
              "    <tr>\n",
              "      <th>1612832</th>\n",
              "      <td>2</td>\n",
              "      <td>138</td>\n",
              "      <td>63</td>\n",
              "      <td>8</td>\n",
              "      <td>213</td>\n",
              "      <td>32.795403</td>\n",
              "      <td>0.979141</td>\n",
              "      <td>54</td>\n",
              "      <td>1</td>\n",
              "      <td>Modesto Cabán</td>\n",
              "    </tr>\n",
              "  </tbody>\n",
              "</table>\n",
              "</div>"
            ],
            "text/plain": [
              "           Pregnancies  PlasmaGlucose  ...  Diabetic           Physician\n",
              "PatientID                              ...                              \n",
              "1399297              1             92  ...         0      Vaughn Oquendo\n",
              "1399297              1             68  ...         0      Vaughn Oquendo\n",
              "1940995              0             73  ...         0      Germain Arenas\n",
              "1940995              2            105  ...         1      Germain Arenas\n",
              "1623043              1             83  ...         0         Dan Drayton\n",
              "1623043              6            105  ...         1         Dan Drayton\n",
              "1772038              5            144  ...         1      Alaine Poisson\n",
              "1772038              4            138  ...         1      Alaine Poisson\n",
              "1104393              0            158  ...         0      Vinicio Robles\n",
              "1104393              7            144  ...         0      Vinicio Robles\n",
              "1867795             11            122  ...         1     Dwayne Passmore\n",
              "1867795              0             80  ...         0     Dwayne Passmore\n",
              "1382420              0            115  ...         0    Lonnie Schindler\n",
              "1382420              4             96  ...         0    Lonnie Schindler\n",
              "1998870              0             95  ...         0  Margret Villarreal\n",
              "1998870              8            118  ...         1  Margret Villarreal\n",
              "1653789              0             81  ...         0      Aaliyah Briggs\n",
              "1653789              2            118  ...         1      Aaliyah Briggs\n",
              "1612832              6             90  ...         0       Modesto Cabán\n",
              "1612832              2            138  ...         1       Modesto Cabán\n",
              "\n",
              "[20 rows x 10 columns]"
            ]
          },
          "metadata": {
            "tags": []
          },
          "execution_count": 17
        }
      ]
    },
    {
      "cell_type": "markdown",
      "metadata": {
        "id": "MaocsvXSSJPs",
        "colab_type": "text"
      },
      "source": [
        "We can see the details of patients with more than one entry above. The table above shows the first 20 entries for patients who got tested more than once.<br>It is clear that some patients were asymptomatic at some point and became symptomatic for diabetes later. While some had consistent conditions either symptomatic or asymptomatic.\n",
        "<br>We shall use these patients data to train a model that would learn how to predict if a patient is asymptomatic for diabetes or not and to what extent in a fair and explainable manner."
      ]
    },
    {
      "cell_type": "code",
      "metadata": {
        "id": "6Pe4LPYkROIk",
        "colab_type": "code",
        "outputId": "ae167867-19ea-419b-c87e-eedceecb9871",
        "colab": {
          "base_uri": "https://localhost:8080/",
          "height": 195
        }
      },
      "source": [
        "diabetes_df.head()"
      ],
      "execution_count": 18,
      "outputs": [
        {
          "output_type": "execute_result",
          "data": {
            "text/html": [
              "<div>\n",
              "<style scoped>\n",
              "    .dataframe tbody tr th:only-of-type {\n",
              "        vertical-align: middle;\n",
              "    }\n",
              "\n",
              "    .dataframe tbody tr th {\n",
              "        vertical-align: top;\n",
              "    }\n",
              "\n",
              "    .dataframe thead th {\n",
              "        text-align: right;\n",
              "    }\n",
              "</style>\n",
              "<table border=\"1\" class=\"dataframe\">\n",
              "  <thead>\n",
              "    <tr style=\"text-align: right;\">\n",
              "      <th></th>\n",
              "      <th>PatientID</th>\n",
              "      <th>Pregnancies</th>\n",
              "      <th>PlasmaGlucose</th>\n",
              "      <th>DiastolicBloodPressure</th>\n",
              "      <th>TricepsThickness</th>\n",
              "      <th>SerumInsulin</th>\n",
              "      <th>BMI</th>\n",
              "      <th>DiabetesPedigree</th>\n",
              "      <th>Age</th>\n",
              "      <th>Diabetic</th>\n",
              "      <th>Physician</th>\n",
              "    </tr>\n",
              "  </thead>\n",
              "  <tbody>\n",
              "    <tr>\n",
              "      <th>0</th>\n",
              "      <td>1354778</td>\n",
              "      <td>0</td>\n",
              "      <td>171</td>\n",
              "      <td>80</td>\n",
              "      <td>34</td>\n",
              "      <td>23</td>\n",
              "      <td>43.509726</td>\n",
              "      <td>1.213191</td>\n",
              "      <td>21</td>\n",
              "      <td>0</td>\n",
              "      <td>Dan Drayton</td>\n",
              "    </tr>\n",
              "    <tr>\n",
              "      <th>1</th>\n",
              "      <td>1147438</td>\n",
              "      <td>8</td>\n",
              "      <td>92</td>\n",
              "      <td>93</td>\n",
              "      <td>47</td>\n",
              "      <td>36</td>\n",
              "      <td>21.240576</td>\n",
              "      <td>0.158365</td>\n",
              "      <td>23</td>\n",
              "      <td>0</td>\n",
              "      <td>Anthony Frizzell</td>\n",
              "    </tr>\n",
              "    <tr>\n",
              "      <th>2</th>\n",
              "      <td>1640031</td>\n",
              "      <td>7</td>\n",
              "      <td>115</td>\n",
              "      <td>47</td>\n",
              "      <td>52</td>\n",
              "      <td>35</td>\n",
              "      <td>41.511523</td>\n",
              "      <td>0.079019</td>\n",
              "      <td>23</td>\n",
              "      <td>0</td>\n",
              "      <td>Gordon Fredrickson</td>\n",
              "    </tr>\n",
              "    <tr>\n",
              "      <th>3</th>\n",
              "      <td>1883350</td>\n",
              "      <td>9</td>\n",
              "      <td>103</td>\n",
              "      <td>78</td>\n",
              "      <td>25</td>\n",
              "      <td>304</td>\n",
              "      <td>29.582192</td>\n",
              "      <td>1.282870</td>\n",
              "      <td>43</td>\n",
              "      <td>1</td>\n",
              "      <td>Chad Corbitt</td>\n",
              "    </tr>\n",
              "    <tr>\n",
              "      <th>4</th>\n",
              "      <td>1424119</td>\n",
              "      <td>1</td>\n",
              "      <td>85</td>\n",
              "      <td>59</td>\n",
              "      <td>27</td>\n",
              "      <td>35</td>\n",
              "      <td>42.604536</td>\n",
              "      <td>0.549542</td>\n",
              "      <td>22</td>\n",
              "      <td>0</td>\n",
              "      <td>Zachary Fellows</td>\n",
              "    </tr>\n",
              "  </tbody>\n",
              "</table>\n",
              "</div>"
            ],
            "text/plain": [
              "   PatientID  Pregnancies  PlasmaGlucose  ...  Age  Diabetic           Physician\n",
              "0    1354778            0            171  ...   21         0         Dan Drayton\n",
              "1    1147438            8             92  ...   23         0    Anthony Frizzell\n",
              "2    1640031            7            115  ...   23         0  Gordon Fredrickson\n",
              "3    1883350            9            103  ...   43         1        Chad Corbitt\n",
              "4    1424119            1             85  ...   22         0     Zachary Fellows\n",
              "\n",
              "[5 rows x 11 columns]"
            ]
          },
          "metadata": {
            "tags": []
          },
          "execution_count": 18
        }
      ]
    },
    {
      "cell_type": "markdown",
      "metadata": {
        "id": "-2aeqWp8eyYy",
        "colab_type": "text"
      },
      "source": [
        "### **Feature-Engineering:**"
      ]
    },
    {
      "cell_type": "markdown",
      "metadata": {
        "id": "w3EVsxdpbXQI",
        "colab_type": "text"
      },
      "source": [
        "Let's see the distribution of each variable in our data set"
      ]
    },
    {
      "cell_type": "code",
      "metadata": {
        "id": "TFeXEqRKchCI",
        "colab_type": "code",
        "outputId": "ba1b784a-6661-4ff4-d6c0-5877d875fb64",
        "colab": {
          "base_uri": "https://localhost:8080/",
          "height": 962
        }
      },
      "source": [
        "sns.set_style('ticks')\n",
        "diabetes_df.hist(figsize=(16,12), color='red')\n",
        "plt.suptitle('Histogram of Numerical Features', fontsize=18, y=0.95)\n",
        "plt.show()"
      ],
      "execution_count": 19,
      "outputs": [
        {
          "output_type": "stream",
          "text": [
            "/usr/local/lib/python3.6/dist-packages/pandas/plotting/_matplotlib/tools.py:307: MatplotlibDeprecationWarning: \n",
            "The rowNum attribute was deprecated in Matplotlib 3.2 and will be removed two minor releases later. Use ax.get_subplotspec().rowspan.start instead.\n",
            "  layout[ax.rowNum, ax.colNum] = ax.get_visible()\n",
            "/usr/local/lib/python3.6/dist-packages/pandas/plotting/_matplotlib/tools.py:307: MatplotlibDeprecationWarning: \n",
            "The colNum attribute was deprecated in Matplotlib 3.2 and will be removed two minor releases later. Use ax.get_subplotspec().colspan.start instead.\n",
            "  layout[ax.rowNum, ax.colNum] = ax.get_visible()\n",
            "/usr/local/lib/python3.6/dist-packages/pandas/plotting/_matplotlib/tools.py:313: MatplotlibDeprecationWarning: \n",
            "The rowNum attribute was deprecated in Matplotlib 3.2 and will be removed two minor releases later. Use ax.get_subplotspec().rowspan.start instead.\n",
            "  if not layout[ax.rowNum + 1, ax.colNum]:\n",
            "/usr/local/lib/python3.6/dist-packages/pandas/plotting/_matplotlib/tools.py:313: MatplotlibDeprecationWarning: \n",
            "The colNum attribute was deprecated in Matplotlib 3.2 and will be removed two minor releases later. Use ax.get_subplotspec().colspan.start instead.\n",
            "  if not layout[ax.rowNum + 1, ax.colNum]:\n"
          ],
          "name": "stderr"
        },
        {
          "output_type": "display_data",
          "data": {
            "image/png": "[encoded data removed]",
            "text/plain": [
              "<Figure size 1152x864 with 12 Axes>"
            ]
          },
          "metadata": {
            "tags": []
          }
        }
      ]
    },
    {
      "cell_type": "markdown",
      "metadata": {
        "id": "0jBTV0KFnEyI",
        "colab_type": "text"
      },
      "source": [
        "Most of the features are Unimodal around the first quartile. This means they tend to have a high frequency of low values. Take for eaxmple features like `TricepsThickness`, `SerumInsulin`, `Pregnancies`, `Age`, `BMI` and `DiabetesPedugree`. All these features have a high concentration of low values around the first quartile and progressively fewer high values.This shows that generally our data set has a distribution of more frequent low values ."
      ]
    },
    {
      "cell_type": "markdown",
      "metadata": {
        "id": "6kAbwi0JmOLC",
        "colab_type": "text"
      },
      "source": [
        "We can also see that features like Age, DiabetesPedigree, SerumInsulin seem to be skewed to the right.\n",
        "This is due to a lot of smaller values present and a progressive distribution of fewer large values.\n",
        "\n",
        "Let's make the distribution better by using the log of the values, rather than actual values in these features.\n",
        "This is a part of the feature-engineering process in Machine Learning"
      ]
    },
    {
      "cell_type": "code",
      "metadata": {
        "id": "WE_UMDUWbyqL",
        "colab_type": "code",
        "outputId": "0347ba93-0400-49e8-8cf3-e36abbf4aade",
        "colab": {
          "base_uri": "https://localhost:8080/",
          "height": 67
        }
      },
      "source": [
        "for i in diabetes_df.columns:\n",
        "    if i in ['Age', 'DiabetesPedigree','SerumInsulin']:\n",
        "        diabetes_df[i] = diabetes_df[i].apply(np.log)\n",
        "        print(i)"
      ],
      "execution_count": 20,
      "outputs": [
        {
          "output_type": "stream",
          "text": [
            "SerumInsulin\n",
            "DiabetesPedigree\n",
            "Age\n"
          ],
          "name": "stdout"
        }
      ]
    },
    {
      "cell_type": "markdown",
      "metadata": {
        "id": "dhzZOJsnr8Zo",
        "colab_type": "text"
      },
      "source": [
        "Now that we've applied the log function to a few variables, let's see the distribution again"
      ]
    },
    {
      "cell_type": "code",
      "metadata": {
        "id": "6NE9qfZtsG2s",
        "colab_type": "code",
        "outputId": "8a585964-e011-4435-e573-3daa3d857e8e",
        "colab": {
          "base_uri": "https://localhost:8080/",
          "height": 962
        }
      },
      "source": [
        "sns.set_style('ticks')\n",
        "diabetes_df.hist(figsize=(16,12), color='red')\n",
        "plt.suptitle('Histogram of Numerical Features', fontsize=18, y=0.95)\n",
        "plt.show()"
      ],
      "execution_count": 21,
      "outputs": [
        {
          "output_type": "stream",
          "text": [
            "/usr/local/lib/python3.6/dist-packages/pandas/plotting/_matplotlib/tools.py:307: MatplotlibDeprecationWarning: \n",
            "The rowNum attribute was deprecated in Matplotlib 3.2 and will be removed two minor releases later. Use ax.get_subplotspec().rowspan.start instead.\n",
            "  layout[ax.rowNum, ax.colNum] = ax.get_visible()\n",
            "/usr/local/lib/python3.6/dist-packages/pandas/plotting/_matplotlib/tools.py:307: MatplotlibDeprecationWarning: \n",
            "The colNum attribute was deprecated in Matplotlib 3.2 and will be removed two minor releases later. Use ax.get_subplotspec().colspan.start instead.\n",
            "  layout[ax.rowNum, ax.colNum] = ax.get_visible()\n",
            "/usr/local/lib/python3.6/dist-packages/pandas/plotting/_matplotlib/tools.py:313: MatplotlibDeprecationWarning: \n",
            "The rowNum attribute was deprecated in Matplotlib 3.2 and will be removed two minor releases later. Use ax.get_subplotspec().rowspan.start instead.\n",
            "  if not layout[ax.rowNum + 1, ax.colNum]:\n",
            "/usr/local/lib/python3.6/dist-packages/pandas/plotting/_matplotlib/tools.py:313: MatplotlibDeprecationWarning: \n",
            "The colNum attribute was deprecated in Matplotlib 3.2 and will be removed two minor releases later. Use ax.get_subplotspec().colspan.start instead.\n",
            "  if not layout[ax.rowNum + 1, ax.colNum]:\n"
          ],
          "name": "stderr"
        },
        {
          "output_type": "display_data",
          "data": {
            "image/png": "[encoded data removed]",
            "text/plain": [
              "<Figure size 1152x864 with 12 Axes>"
            ]
          },
          "metadata": {
            "tags": []
          }
        }
      ]
    },
    {
      "cell_type": "markdown",
      "metadata": {
        "id": "DDJBs-cHs_eq",
        "colab_type": "text"
      },
      "source": [
        "Ofcourse we can see an improvement in the shape of the above distributions. Even those that are asymmetrical like `Age` and `Pregnancies` do show some improvement."
      ]
    },
    {
      "cell_type": "markdown",
      "metadata": {
        "id": "jLwuAb3atp7q",
        "colab_type": "text"
      },
      "source": [
        "<h4>Feature-Selection</h4>"
      ]
    },
    {
      "cell_type": "markdown",
      "metadata": {
        "id": "jnroPc3SurbE",
        "colab_type": "text"
      },
      "source": [
        "Just by eye-balling the dataset, we can see that certain columns hold little or no scientific or statistical importance. A good example is the PatientID column, which is important for indexing or merging data frames, but not important for training a model. Another is the Physician Column. We do not want our model to learn attributes related to physicians, because we do not want the physician data to influence model prediction in the real world. "
      ]
    },
    {
      "cell_type": "code",
      "metadata": {
        "id": "QMPRjxzLsGqX",
        "colab_type": "code",
        "outputId": "ae32f37f-561c-4c83-e257-251f67b6cd73",
        "colab": {
          "base_uri": "https://localhost:8080/",
          "height": 195
        }
      },
      "source": [
        "# Let's drop the Physician and PatientID columns\n",
        "diabetes_df.drop(['PatientID','Physician'], axis=1, inplace=True)\n",
        "\n",
        "# Let's see the data frame\n",
        "diabetes_df.head()"
      ],
      "execution_count": 22,
      "outputs": [
        {
          "output_type": "execute_result",
          "data": {
            "text/html": [
              "<div>\n",
              "<style scoped>\n",
              "    .dataframe tbody tr th:only-of-type {\n",
              "        vertical-align: middle;\n",
              "    }\n",
              "\n",
              "    .dataframe tbody tr th {\n",
              "        vertical-align: top;\n",
              "    }\n",
              "\n",
              "    .dataframe thead th {\n",
              "        text-align: right;\n",
              "    }\n",
              "</style>\n",
              "<table border=\"1\" class=\"dataframe\">\n",
              "  <thead>\n",
              "    <tr style=\"text-align: right;\">\n",
              "      <th></th>\n",
              "      <th>Pregnancies</th>\n",
              "      <th>PlasmaGlucose</th>\n",
              "      <th>DiastolicBloodPressure</th>\n",
              "      <th>TricepsThickness</th>\n",
              "      <th>SerumInsulin</th>\n",
              "      <th>BMI</th>\n",
              "      <th>DiabetesPedigree</th>\n",
              "      <th>Age</th>\n",
              "      <th>Diabetic</th>\n",
              "    </tr>\n",
              "  </thead>\n",
              "  <tbody>\n",
              "    <tr>\n",
              "      <th>0</th>\n",
              "      <td>0</td>\n",
              "      <td>171</td>\n",
              "      <td>80</td>\n",
              "      <td>34</td>\n",
              "      <td>3.135494</td>\n",
              "      <td>43.509726</td>\n",
              "      <td>0.193254</td>\n",
              "      <td>3.044522</td>\n",
              "      <td>0</td>\n",
              "    </tr>\n",
              "    <tr>\n",
              "      <th>1</th>\n",
              "      <td>8</td>\n",
              "      <td>92</td>\n",
              "      <td>93</td>\n",
              "      <td>47</td>\n",
              "      <td>3.583519</td>\n",
              "      <td>21.240576</td>\n",
              "      <td>-1.842853</td>\n",
              "      <td>3.135494</td>\n",
              "      <td>0</td>\n",
              "    </tr>\n",
              "    <tr>\n",
              "      <th>2</th>\n",
              "      <td>7</td>\n",
              "      <td>115</td>\n",
              "      <td>47</td>\n",
              "      <td>52</td>\n",
              "      <td>3.555348</td>\n",
              "      <td>41.511523</td>\n",
              "      <td>-2.538072</td>\n",
              "      <td>3.135494</td>\n",
              "      <td>0</td>\n",
              "    </tr>\n",
              "    <tr>\n",
              "      <th>3</th>\n",
              "      <td>9</td>\n",
              "      <td>103</td>\n",
              "      <td>78</td>\n",
              "      <td>25</td>\n",
              "      <td>5.717028</td>\n",
              "      <td>29.582192</td>\n",
              "      <td>0.249100</td>\n",
              "      <td>3.761200</td>\n",
              "      <td>1</td>\n",
              "    </tr>\n",
              "    <tr>\n",
              "      <th>4</th>\n",
              "      <td>1</td>\n",
              "      <td>85</td>\n",
              "      <td>59</td>\n",
              "      <td>27</td>\n",
              "      <td>3.555348</td>\n",
              "      <td>42.604536</td>\n",
              "      <td>-0.598670</td>\n",
              "      <td>3.091042</td>\n",
              "      <td>0</td>\n",
              "    </tr>\n",
              "  </tbody>\n",
              "</table>\n",
              "</div>"
            ],
            "text/plain": [
              "   Pregnancies  PlasmaGlucose  ...       Age  Diabetic\n",
              "0            0            171  ...  3.044522         0\n",
              "1            8             92  ...  3.135494         0\n",
              "2            7            115  ...  3.135494         0\n",
              "3            9            103  ...  3.761200         1\n",
              "4            1             85  ...  3.091042         0\n",
              "\n",
              "[5 rows x 9 columns]"
            ]
          },
          "metadata": {
            "tags": []
          },
          "execution_count": 22
        }
      ]
    },
    {
      "cell_type": "markdown",
      "metadata": {
        "id": "9q13BlU2DlWc",
        "colab_type": "text"
      },
      "source": [
        "<h4>How balanced is our Data set?</h4>"
      ]
    },
    {
      "cell_type": "markdown",
      "metadata": {
        "id": "xGExOuorDyC-",
        "colab_type": "text"
      },
      "source": [
        "It is very important to know the class distribution of variables in our data set. Ideally variables should be relatively equally distributed so that one particular class does not overshadow the other class when we train the model.\n",
        "<br>An imbalanced dataset makes the model to have a high recognition rate (sensitivity) for the dominant class. The F1 score of the model could be unreliable in an imbalanced Data set\n",
        "\n",
        "<br>For example, if we have 80% of our data in class 0 or non-diabetic and only 20% in class 1 or diabetic, the model we train with this imbalanced data set will learn the attributes of class 0, far more than class 1 and would not generalise properly in real-world or unseen data sets."
      ]
    },
    {
      "cell_type": "markdown",
      "metadata": {
        "id": "piuJ-xzCQo_4",
        "colab_type": "text"
      },
      "source": [
        "Okay let's check the distribution of class observations in our data set"
      ]
    },
    {
      "cell_type": "code",
      "metadata": {
        "id": "XeuJPHqAFuQ3",
        "colab_type": "code",
        "outputId": "d0e40967-3a73-4da9-8e23-e83560f96d73",
        "colab": {
          "base_uri": "https://localhost:8080/",
          "height": 67
        }
      },
      "source": [
        "diabetes_df.Diabetic.value_counts()"
      ],
      "execution_count": 23,
      "outputs": [
        {
          "output_type": "execute_result",
          "data": {
            "text/plain": [
              "0    10000\n",
              "1     5000\n",
              "Name: Diabetic, dtype: int64"
            ]
          },
          "metadata": {
            "tags": []
          },
          "execution_count": 23
        }
      ]
    },
    {
      "cell_type": "markdown",
      "metadata": {
        "id": "0UfprQ-nQ97B",
        "colab_type": "text"
      },
      "source": [
        "we can see that 10,000 observations are labelled non-diabetics, while 5,000 are diabetic. <br>This is an imbalanced data set. Let's visualize this relationship."
      ]
    },
    {
      "cell_type": "code",
      "metadata": {
        "id": "0tS0Pl80RSKL",
        "colab_type": "code",
        "outputId": "8005a8ca-aaa6-40aa-d175-9357d5f72574",
        "colab": {
          "base_uri": "https://localhost:8080/",
          "height": 431
        }
      },
      "source": [
        "x = diabetes_df.Diabetic.replace(to_replace=[0,1], value=['Non-Diabetic', 'Diabetic'])\n",
        "plt.figure(figsize=(6, 6))\n",
        "sns.countplot(x)\n",
        "plt.suptitle('Imbalanced Class distribution of observations in the Dataset', x=0.45)\n",
        "plt.show()"
      ],
      "execution_count": 24,
      "outputs": [
        {
          "output_type": "display_data",
          "data": {
            "image/png": "[encoded data removed]",
            "text/plain": [
              "<Figure size 432x432 with 1 Axes>"
            ]
          },
          "metadata": {
            "tags": []
          }
        }
      ]
    },
    {
      "cell_type": "markdown",
      "metadata": {
        "id": "wqWTLLFvS7qL",
        "colab_type": "text"
      },
      "source": [
        "<h4>Balance the dataset</h4>"
      ]
    },
    {
      "cell_type": "code",
      "metadata": {
        "id": "sk9RfnsARSGU",
        "colab_type": "code",
        "outputId": "f6ca8061-89fa-478c-b260-21ff860b3046",
        "colab": {
          "base_uri": "https://localhost:8080/",
          "height": 104
        }
      },
      "source": [
        "from imblearn.over_sampling import SMOTE "
      ],
      "execution_count": 25,
      "outputs": [
        {
          "output_type": "stream",
          "text": [
            "/usr/local/lib/python3.6/dist-packages/sklearn/externals/six.py:31: FutureWarning: The module is deprecated in version 0.21 and will be removed in version 0.23 since we've dropped support for Python 2.7. Please rely on the official version of six (https://pypi.org/project/six/).\n",
            "  \"(https://pypi.org/project/six/).\", FutureWarning)\n",
            "/usr/local/lib/python3.6/dist-packages/sklearn/utils/deprecation.py:144: FutureWarning: The sklearn.neighbors.base module is  deprecated in version 0.22 and will be removed in version 0.24. The corresponding classes / functions should instead be imported from sklearn.neighbors. Anything that cannot be imported from sklearn.neighbors is now part of the private API.\n",
            "  warnings.warn(message, FutureWarning)\n"
          ],
          "name": "stderr"
        }
      ]
    },
    {
      "cell_type": "markdown",
      "metadata": {
        "id": "5DI1sxKCVShs",
        "colab_type": "text"
      },
      "source": [
        "We have just imported the SMOTE module from imblearn library. SMOTE stands for _Synthetic Minority Over-sampling Technique_. What it does is to create random synthetic data from the minority class we want to balance, such that we will have equal observations in both classes and the random synthetic data will have the attributes and nuances of the minority class it's created from. "
      ]
    },
    {
      "cell_type": "code",
      "metadata": {
        "id": "sAFL7IzNRSD0",
        "colab_type": "code",
        "colab": {}
      },
      "source": [
        "sm = SMOTE(sampling_strategy='minority', random_state=5, k_neighbors=5)"
      ],
      "execution_count": 0,
      "outputs": []
    },
    {
      "cell_type": "markdown",
      "metadata": {
        "id": "haPlQ2E-X-oO",
        "colab_type": "text"
      },
      "source": [
        "Now let's pass the features and our target label to the SMOTE instance created above"
      ]
    },
    {
      "cell_type": "code",
      "metadata": {
        "id": "5MgzdDwLXYmi",
        "colab_type": "code",
        "outputId": "f564265f-96e2-4111-eec6-d699745da82d",
        "colab": {
          "base_uri": "https://localhost:8080/",
          "height": 70
        }
      },
      "source": [
        "resampled_features, resampled_target = sm.fit_resample(diabetes_df.iloc[:,:-1], diabetes_df.Diabetic)"
      ],
      "execution_count": 27,
      "outputs": [
        {
          "output_type": "stream",
          "text": [
            "/usr/local/lib/python3.6/dist-packages/sklearn/utils/deprecation.py:87: FutureWarning: Function safe_indexing is deprecated; safe_indexing is deprecated in version 0.22 and will be removed in version 0.24.\n",
            "  warnings.warn(msg, category=FutureWarning)\n"
          ],
          "name": "stderr"
        }
      ]
    },
    {
      "cell_type": "markdown",
      "metadata": {
        "id": "YEn9mueVYQVy",
        "colab_type": "text"
      },
      "source": [
        "Let's see the shapes of our new data set"
      ]
    },
    {
      "cell_type": "code",
      "metadata": {
        "id": "c0V7HF8SYduI",
        "colab_type": "code",
        "outputId": "aae00834-b7dc-42e0-dd84-59d5a135ce4e",
        "colab": {
          "base_uri": "https://localhost:8080/",
          "height": 67
        }
      },
      "source": [
        "print('Shape of resampled feature set is:',resampled_features.shape)\n",
        "print('Shape of resampled target data is:',resampled_target.shape)\n",
        "type(resampled_features)\n",
        "type(resampled_target)"
      ],
      "execution_count": 28,
      "outputs": [
        {
          "output_type": "stream",
          "text": [
            "Shape of resampled feature set is: (20000, 8)\n",
            "Shape of resampled target data is: (20000,)\n"
          ],
          "name": "stdout"
        },
        {
          "output_type": "execute_result",
          "data": {
            "text/plain": [
              "numpy.ndarray"
            ]
          },
          "metadata": {
            "tags": []
          },
          "execution_count": 28
        }
      ]
    },
    {
      "cell_type": "markdown",
      "metadata": {
        "id": "b0wMPpBpYwun",
        "colab_type": "text"
      },
      "source": [
        "We can see that both resampled features and target above have been converted from a pandas object to a numpy data frame. let's convert them back to a Data frame as it will be easier when normalizing feature columns."
      ]
    },
    {
      "cell_type": "code",
      "metadata": {
        "id": "cQGsN1CSYvv4",
        "colab_type": "code",
        "outputId": "586e2963-34c2-47c5-80e3-0046ee19bc4a",
        "colab": {
          "base_uri": "https://localhost:8080/",
          "height": 185
        }
      },
      "source": [
        "resampled_features[:5]"
      ],
      "execution_count": 29,
      "outputs": [
        {
          "output_type": "execute_result",
          "data": {
            "text/plain": [
              "array([[  0.        , 171.        ,  80.        ,  34.        ,\n",
              "          3.13549422,  43.50972593,   0.19325437,   3.04452244],\n",
              "       [  8.        ,  92.        ,  93.        ,  47.        ,\n",
              "          3.58351894,  21.24057571,  -1.8428529 ,   3.13549422],\n",
              "       [  7.        , 115.        ,  47.        ,  52.        ,\n",
              "          3.55534806,  41.51152348,  -2.53807242,   3.13549422],\n",
              "       [  9.        , 103.        ,  78.        ,  25.        ,\n",
              "          5.7170277 ,  29.58219193,   0.24909964,   3.76120012],\n",
              "       [  1.        ,  85.        ,  59.        ,  27.        ,\n",
              "          3.55534806,  42.60453585,  -0.59867031,   3.09104245]])"
            ]
          },
          "metadata": {
            "tags": []
          },
          "execution_count": 29
        }
      ]
    },
    {
      "cell_type": "markdown",
      "metadata": {
        "id": "Nv4K-6oRhIWX",
        "colab_type": "text"
      },
      "source": [
        "<h4>Defining our Features and Target Matrices.</h4>"
      ]
    },
    {
      "cell_type": "code",
      "metadata": {
        "id": "K3gG3VDRdvmT",
        "colab_type": "code",
        "outputId": "1c4f13f7-83d6-4c57-d43e-1a47ee61d6f6",
        "colab": {
          "base_uri": "https://localhost:8080/",
          "height": 229
        }
      },
      "source": [
        "# First let's make our features matrix a data frame from resampled features.\n",
        "features = pd.DataFrame(resampled_features, columns=diabetes_df.columns[:-1])\n",
        "\n",
        "# Let's make our target the resampled target above\n",
        "target = resampled_target \n",
        "\n",
        "# Let's see our features and target shape\n",
        "print('Shape of feature set is:',features.shape)\n",
        "print('Shape of target data is:',target.shape)\n",
        "\n",
        "features.head()"
      ],
      "execution_count": 30,
      "outputs": [
        {
          "output_type": "stream",
          "text": [
            "Shape of feature set is: (20000, 8)\n",
            "Shape of target data is: (20000,)\n"
          ],
          "name": "stdout"
        },
        {
          "output_type": "execute_result",
          "data": {
            "text/html": [
              "<div>\n",
              "<style scoped>\n",
              "    .dataframe tbody tr th:only-of-type {\n",
              "        vertical-align: middle;\n",
              "    }\n",
              "\n",
              "    .dataframe tbody tr th {\n",
              "        vertical-align: top;\n",
              "    }\n",
              "\n",
              "    .dataframe thead th {\n",
              "        text-align: right;\n",
              "    }\n",
              "</style>\n",
              "<table border=\"1\" class=\"dataframe\">\n",
              "  <thead>\n",
              "    <tr style=\"text-align: right;\">\n",
              "      <th></th>\n",
              "      <th>Pregnancies</th>\n",
              "      <th>PlasmaGlucose</th>\n",
              "      <th>DiastolicBloodPressure</th>\n",
              "      <th>TricepsThickness</th>\n",
              "      <th>SerumInsulin</th>\n",
              "      <th>BMI</th>\n",
              "      <th>DiabetesPedigree</th>\n",
              "      <th>Age</th>\n",
              "    </tr>\n",
              "  </thead>\n",
              "  <tbody>\n",
              "    <tr>\n",
              "      <th>0</th>\n",
              "      <td>0.0</td>\n",
              "      <td>171.0</td>\n",
              "      <td>80.0</td>\n",
              "      <td>34.0</td>\n",
              "      <td>3.135494</td>\n",
              "      <td>43.509726</td>\n",
              "      <td>0.193254</td>\n",
              "      <td>3.044522</td>\n",
              "    </tr>\n",
              "    <tr>\n",
              "      <th>1</th>\n",
              "      <td>8.0</td>\n",
              "      <td>92.0</td>\n",
              "      <td>93.0</td>\n",
              "      <td>47.0</td>\n",
              "      <td>3.583519</td>\n",
              "      <td>21.240576</td>\n",
              "      <td>-1.842853</td>\n",
              "      <td>3.135494</td>\n",
              "    </tr>\n",
              "    <tr>\n",
              "      <th>2</th>\n",
              "      <td>7.0</td>\n",
              "      <td>115.0</td>\n",
              "      <td>47.0</td>\n",
              "      <td>52.0</td>\n",
              "      <td>3.555348</td>\n",
              "      <td>41.511523</td>\n",
              "      <td>-2.538072</td>\n",
              "      <td>3.135494</td>\n",
              "    </tr>\n",
              "    <tr>\n",
              "      <th>3</th>\n",
              "      <td>9.0</td>\n",
              "      <td>103.0</td>\n",
              "      <td>78.0</td>\n",
              "      <td>25.0</td>\n",
              "      <td>5.717028</td>\n",
              "      <td>29.582192</td>\n",
              "      <td>0.249100</td>\n",
              "      <td>3.761200</td>\n",
              "    </tr>\n",
              "    <tr>\n",
              "      <th>4</th>\n",
              "      <td>1.0</td>\n",
              "      <td>85.0</td>\n",
              "      <td>59.0</td>\n",
              "      <td>27.0</td>\n",
              "      <td>3.555348</td>\n",
              "      <td>42.604536</td>\n",
              "      <td>-0.598670</td>\n",
              "      <td>3.091042</td>\n",
              "    </tr>\n",
              "  </tbody>\n",
              "</table>\n",
              "</div>"
            ],
            "text/plain": [
              "   Pregnancies  PlasmaGlucose  ...  DiabetesPedigree       Age\n",
              "0          0.0          171.0  ...          0.193254  3.044522\n",
              "1          8.0           92.0  ...         -1.842853  3.135494\n",
              "2          7.0          115.0  ...         -2.538072  3.135494\n",
              "3          9.0          103.0  ...          0.249100  3.761200\n",
              "4          1.0           85.0  ...         -0.598670  3.091042\n",
              "\n",
              "[5 rows x 8 columns]"
            ]
          },
          "metadata": {
            "tags": []
          },
          "execution_count": 30
        }
      ]
    },
    {
      "cell_type": "markdown",
      "metadata": {
        "id": "U0JDbW0fbXhr",
        "colab_type": "text"
      },
      "source": [
        "Finally let's visualize the new class distribution of observations in our data set"
      ]
    },
    {
      "cell_type": "code",
      "metadata": {
        "id": "Nr6HRWMgbek2",
        "colab_type": "code",
        "outputId": "945bcc15-81e1-4af2-9ebf-66de6e605b33",
        "colab": {
          "base_uri": "https://localhost:8080/",
          "height": 417
        }
      },
      "source": [
        "x = pd.Series(target).replace(to_replace=[0,1], value=['Non-Diabetic', 'Diabetic'])\n",
        "plt.figure(figsize=(6,6))\n",
        "sns.countplot(x)\n",
        "plt.suptitle('Balanced Class distribution of observations in the Dataset', x=0.45)\n",
        "plt.show()"
      ],
      "execution_count": 31,
      "outputs": [
        {
          "output_type": "display_data",
          "data": {
            "image/png": "[encoded data removed]",
            "text/plain": [
              "<Figure size 432x432 with 1 Axes>"
            ]
          },
          "metadata": {
            "tags": []
          }
        }
      ]
    },
    {
      "cell_type": "markdown",
      "metadata": {
        "id": "Dv_K1JWm51wq",
        "colab_type": "text"
      },
      "source": [
        "**Multi-collinearity Check:**"
      ]
    },
    {
      "cell_type": "markdown",
      "metadata": {
        "id": "lfb7HAJBr8Wh",
        "colab_type": "text"
      },
      "source": [
        "Let's inspect the correlation matrix of our features, let's see if we have a multi-collinearity problem amongst our features.\n",
        "<br>Multi-collinearity occurs when two or more features in our data set have a strong negative (score close to minus one) or positive (score close to one) relationship. Multicolinearity saps the statistical power of the analysis and can cause the coefficients of our model to switch signs, distorting the correct model. It can lead to bias and a wrong F1 score."
      ]
    },
    {
      "cell_type": "code",
      "metadata": {
        "id": "eJyMJR3E4bKE",
        "colab_type": "code",
        "outputId": "bcb6eeda-7f13-4832-8122-a69ef1c50fd0",
        "colab": {
          "base_uri": "https://localhost:8080/",
          "height": 644
        }
      },
      "source": [
        "plt.figure(figsize=(10,8))\n",
        "corr_matrix = features.corr()\n",
        "sns.heatmap(corr_matrix, annot=True, linewidths=2)\n",
        "plt.suptitle('Correlation Matrix of Features and Target', fontsize=16, x=0.4)\n",
        "plt.show()"
      ],
      "execution_count": 32,
      "outputs": [
        {
          "output_type": "display_data",
          "data": {
            "image/png": "[encoded data removed]",
            "text/plain": [
              "<Figure size 720x576 with 2 Axes>"
            ]
          },
          "metadata": {
            "tags": []
          }
        }
      ]
    },
    {
      "cell_type": "markdown",
      "metadata": {
        "id": "NhrIApXL73dz",
        "colab_type": "text"
      },
      "source": [
        "From the image above,\n",
        "<br>Lighter colors indicate higher correlation, and darker color indicate weak or no correlation.<br>We can clearly see that all features are unique and independent with corr scores around 0, and thus, we do not have a multi-collinearity problem."
      ]
    },
    {
      "cell_type": "markdown",
      "metadata": {
        "id": "Ial7AsXLwgyB",
        "colab_type": "text"
      },
      "source": [
        "<h4>Normalising the Data</h4>"
      ]
    },
    {
      "cell_type": "markdown",
      "metadata": {
        "id": "CjTb00dww4n2",
        "colab_type": "text"
      },
      "source": [
        "In Machine learning and Artificial Intelligence in general, it's important to normalise feature values. Normalising puts all the values of the features we use to train our models on the same scale. Between a specific range of values.<br>This is essential so that features with higher values like `PlasmaGlucose,\tDiastolicBloodPressure\t`, do not dominate other features with lower values and thus skew the model predictions."
      ]
    },
    {
      "cell_type": "markdown",
      "metadata": {
        "id": "hza5rrMZx2gv",
        "colab_type": "text"
      },
      "source": [
        "Looking at the shapes of the distribution of each feature, those with a roughly normal distribution bell-shape curve, will be normalized using the Zscore method.\n",
        "While those with varying large and low values will be normalized using the Min-Max method.\n",
        "\n",
        "1. **Z-Score or Standard Score Normalization:**<br>\n",
        "Using Z-Score, For each feature value, we subtract the average or mean...\n",
        "And then divide by the Standard deviation.\n",
        "This gives a range between minus 3 and 3, but can be more or less\n",
        "\n",
        "$Xnew =$ $Xold - mean \\over STD(sigma)$\n",
        "<br>\n",
        "<br>\n",
        "\n",
        "2. **Min-Max Method Normalization:**<br>\n",
        "This method takes each value and subtracts the min and then divides by the range(max - min)...\n",
        "The resultant values range between zero(0) and one(1)\n",
        "\n",
        "$Xnew =$ $Xold - Xmin \\over Xmax - Xmin$\n",
        "\n",
        "Now let's apply these methods to the selected columns using the apply method."
      ]
    },
    {
      "cell_type": "markdown",
      "metadata": {
        "id": "9m2XESz-8sM5",
        "colab_type": "text"
      },
      "source": [
        "So let's go on and normalise the data set using both Z-score and Min-max normalizers.<br>The rule is If columns are Not `Age`, `Pregnancies` and `TricepsThickness` we apply Z-score, then Min-max otherwise.\n"
      ]
    },
    {
      "cell_type": "code",
      "metadata": {
        "id": "x4rJRClX49Gh",
        "colab_type": "code",
        "colab": {}
      },
      "source": [
        "# Let's loop through each feature\n",
        "for col in features.columns:\n",
        "    # Next let's define statistical moments for each feature\n",
        "    mean = features[col].mean()\n",
        "    stdev = features[col].std()\n",
        "    minimum = features[col].min()\n",
        "    maximum = features[col].max()\n",
        "\n",
        "    if col in ['Age', 'Pregnancies','TricepsThickness']:\n",
        "        # if True, We apply the Min-Max method using apply and lambda\n",
        "        features[col] = features[col].apply(lambda x: (x - minimum) / (maximum - minimum))\n",
        "    else:\n",
        "        # If Not True, we apply Z-score method to the rest\n",
        "        features[col] = features[col].apply(lambda x: (x - mean) / stdev)\n"
      ],
      "execution_count": 0,
      "outputs": []
    },
    {
      "cell_type": "markdown",
      "metadata": {
        "id": "n4ww38wWC1Io",
        "colab_type": "text"
      },
      "source": [
        "Let's see the normalized features data frame"
      ]
    },
    {
      "cell_type": "code",
      "metadata": {
        "id": "CdwQhp73AsKS",
        "colab_type": "code",
        "outputId": "8cf992f1-cb4d-4229-960b-98e3c84323b0",
        "colab": {
          "base_uri": "https://localhost:8080/",
          "height": 195
        }
      },
      "source": [
        "features.head()"
      ],
      "execution_count": 34,
      "outputs": [
        {
          "output_type": "execute_result",
          "data": {
            "text/html": [
              "<div>\n",
              "<style scoped>\n",
              "    .dataframe tbody tr th:only-of-type {\n",
              "        vertical-align: middle;\n",
              "    }\n",
              "\n",
              "    .dataframe tbody tr th {\n",
              "        vertical-align: top;\n",
              "    }\n",
              "\n",
              "    .dataframe thead th {\n",
              "        text-align: right;\n",
              "    }\n",
              "</style>\n",
              "<table border=\"1\" class=\"dataframe\">\n",
              "  <thead>\n",
              "    <tr style=\"text-align: right;\">\n",
              "      <th></th>\n",
              "      <th>Pregnancies</th>\n",
              "      <th>PlasmaGlucose</th>\n",
              "      <th>DiastolicBloodPressure</th>\n",
              "      <th>TricepsThickness</th>\n",
              "      <th>SerumInsulin</th>\n",
              "      <th>BMI</th>\n",
              "      <th>DiabetesPedigree</th>\n",
              "      <th>Age</th>\n",
              "    </tr>\n",
              "  </thead>\n",
              "  <tbody>\n",
              "    <tr>\n",
              "      <th>0</th>\n",
              "      <td>0.000000</td>\n",
              "      <td>1.943191</td>\n",
              "      <td>0.510537</td>\n",
              "      <td>0.313953</td>\n",
              "      <td>-1.544660</td>\n",
              "      <td>1.200633</td>\n",
              "      <td>1.734444</td>\n",
              "      <td>0.000000</td>\n",
              "    </tr>\n",
              "    <tr>\n",
              "      <th>1</th>\n",
              "      <td>0.571429</td>\n",
              "      <td>-0.545930</td>\n",
              "      <td>1.317695</td>\n",
              "      <td>0.465116</td>\n",
              "      <td>-1.065025</td>\n",
              "      <td>-1.167831</td>\n",
              "      <td>-0.699438</td>\n",
              "      <td>0.070017</td>\n",
              "    </tr>\n",
              "    <tr>\n",
              "      <th>2</th>\n",
              "      <td>0.500000</td>\n",
              "      <td>0.178751</td>\n",
              "      <td>-1.538403</td>\n",
              "      <td>0.523256</td>\n",
              "      <td>-1.095183</td>\n",
              "      <td>0.988112</td>\n",
              "      <td>-1.530475</td>\n",
              "      <td>0.070017</td>\n",
              "    </tr>\n",
              "    <tr>\n",
              "      <th>3</th>\n",
              "      <td>0.642857</td>\n",
              "      <td>-0.199343</td>\n",
              "      <td>0.386359</td>\n",
              "      <td>0.209302</td>\n",
              "      <td>1.219015</td>\n",
              "      <td>-0.280648</td>\n",
              "      <td>1.801199</td>\n",
              "      <td>0.551595</td>\n",
              "    </tr>\n",
              "    <tr>\n",
              "      <th>4</th>\n",
              "      <td>0.071429</td>\n",
              "      <td>-0.766485</td>\n",
              "      <td>-0.793334</td>\n",
              "      <td>0.232558</td>\n",
              "      <td>-1.095183</td>\n",
              "      <td>1.104360</td>\n",
              "      <td>0.787809</td>\n",
              "      <td>0.035804</td>\n",
              "    </tr>\n",
              "  </tbody>\n",
              "</table>\n",
              "</div>"
            ],
            "text/plain": [
              "   Pregnancies  PlasmaGlucose  ...  DiabetesPedigree       Age\n",
              "0     0.000000       1.943191  ...          1.734444  0.000000\n",
              "1     0.571429      -0.545930  ...         -0.699438  0.070017\n",
              "2     0.500000       0.178751  ...         -1.530475  0.070017\n",
              "3     0.642857      -0.199343  ...          1.801199  0.551595\n",
              "4     0.071429      -0.766485  ...          0.787809  0.035804\n",
              "\n",
              "[5 rows x 8 columns]"
            ]
          },
          "metadata": {
            "tags": []
          },
          "execution_count": 34
        }
      ]
    },
    {
      "cell_type": "markdown",
      "metadata": {
        "id": "lqNIVqddjX9L",
        "colab_type": "text"
      },
      "source": [
        "Finally let's convert the features to a numpy array just like the target. Using Numpy arrays work best in machine learning"
      ]
    },
    {
      "cell_type": "code",
      "metadata": {
        "id": "jOzAKwFWjnvk",
        "colab_type": "code",
        "outputId": "d538fef7-598d-4b61-9cd9-d004d8c90f88",
        "colab": {
          "base_uri": "https://localhost:8080/",
          "height": 218
        }
      },
      "source": [
        "# We shall use the .values method to convert to numpy arrays\n",
        "features = features.values\n",
        "\n",
        "# Let's see the first five entries\n",
        "print(f\"Type features: {type(features)}\")\n",
        "print()\n",
        "features[:5]"
      ],
      "execution_count": 35,
      "outputs": [
        {
          "output_type": "stream",
          "text": [
            "Type features: <class 'numpy.ndarray'>\n",
            "\n"
          ],
          "name": "stdout"
        },
        {
          "output_type": "execute_result",
          "data": {
            "text/plain": [
              "array([[ 0.        ,  1.94319073,  0.51053721,  0.31395349, -1.54466028,\n",
              "         1.20063294,  1.73444374,  0.        ],\n",
              "       [ 0.57142857, -0.54592991,  1.31769544,  0.46511628, -1.06502486,\n",
              "        -1.16783085, -0.69943777,  0.07001691],\n",
              "       [ 0.5       ,  0.17875078, -1.5384029 ,  0.52325581, -1.09518336,\n",
              "         0.98811158, -1.53047548,  0.07001691],\n",
              "       [ 0.64285714, -0.19934349,  0.38635902,  0.20930233,  1.21901506,\n",
              "        -0.28064765,  1.80119894,  0.55159475],\n",
              "       [ 0.07142857, -0.7664849 , -0.79333377,  0.23255814, -1.09518336,\n",
              "         1.1043603 ,  0.78780853,  0.03580438]])"
            ]
          },
          "metadata": {
            "tags": []
          },
          "execution_count": 35
        }
      ]
    },
    {
      "cell_type": "markdown",
      "metadata": {
        "id": "JfnBIqqgh2EN",
        "colab_type": "text"
      },
      "source": [
        "### **Creating The Classifier Model:**"
      ]
    },
    {
      "cell_type": "markdown",
      "metadata": {
        "id": "0etW0akHh_x-",
        "colab_type": "text"
      },
      "source": [
        "Using the `Don't Repeat Yourself (DRY)` Paradigm, we shall attempt to create a machine learning Pipeline using `CASH` tools like `LALE` (Language for Automated Learning Explorartion) or `AutoSklearn`. \n",
        "<br>CASH stands for _Combined Algorithm Selection and Hyper-paramters Optimisation technique_"
      ]
    },
    {
      "cell_type": "markdown",
      "metadata": {
        "id": "_G06CGEPrsV2",
        "colab_type": "text"
      },
      "source": [
        "**Splitting The Data:**"
      ]
    },
    {
      "cell_type": "markdown",
      "metadata": {
        "id": "u1U_Le56nYsa",
        "colab_type": "text"
      },
      "source": [
        "First let's split the data in 70% training, 15% validating and 15% Testing sets."
      ]
    },
    {
      "cell_type": "code",
      "metadata": {
        "id": "1du8ELCih87E",
        "colab_type": "code",
        "colab": {}
      },
      "source": [
        "from sklearn.model_selection import train_test_split"
      ],
      "execution_count": 0,
      "outputs": []
    },
    {
      "cell_type": "markdown",
      "metadata": {
        "id": "wtSpTAtBnorA",
        "colab_type": "text"
      },
      "source": [
        "We shall use the train_test_split function to divide our data into training, testing and validating sets"
      ]
    },
    {
      "cell_type": "code",
      "metadata": {
        "id": "6iBN21RCnv8e",
        "colab_type": "code",
        "colab": {}
      },
      "source": [
        "x_train, x_val, y_train, y_val = train_test_split(features, target, train_size =0.7, shuffle=True, stratify=target) "
      ],
      "execution_count": 0,
      "outputs": []
    },
    {
      "cell_type": "markdown",
      "metadata": {
        "id": "thaytaNKpFLo",
        "colab_type": "text"
      },
      "source": [
        "Let's see the shape of the training and validating sets"
      ]
    },
    {
      "cell_type": "code",
      "metadata": {
        "id": "fR1WShwGpJgj",
        "colab_type": "code",
        "outputId": "140c46cb-6149-4633-a629-8a8151e66033",
        "colab": {
          "base_uri": "https://localhost:8080/",
          "height": 84
        }
      },
      "source": [
        "print(f\"Shape of training set is {x_train.shape}, \\nShape of validating set is {x_val.shape}\")\n",
        "print(f\"Shape of training target is {y_train.shape}, \\nShape of validating target is {y_val.shape}\")"
      ],
      "execution_count": 38,
      "outputs": [
        {
          "output_type": "stream",
          "text": [
            "Shape of training set is (14000, 8), \n",
            "Shape of validating set is (6000, 8)\n",
            "Shape of training target is (14000,), \n",
            "Shape of validating target is (6000,)\n"
          ],
          "name": "stdout"
        }
      ]
    },
    {
      "cell_type": "markdown",
      "metadata": {
        "id": "eJSR9jvxp4nD",
        "colab_type": "text"
      },
      "source": [
        "Now let's further split the validating set into validating and testing sets"
      ]
    },
    {
      "cell_type": "code",
      "metadata": {
        "id": "P4aZLvstqAT3",
        "colab_type": "code",
        "colab": {}
      },
      "source": [
        "x_val, x_test, y_val, y_test = train_test_split(x_val, y_val, test_size =0.5, shuffle=True, stratify=y_val) "
      ],
      "execution_count": 0,
      "outputs": []
    },
    {
      "cell_type": "markdown",
      "metadata": {
        "id": "2f_o4qQKqoo6",
        "colab_type": "text"
      },
      "source": [
        "Let's see the final shapes of the training, validating and testing sets"
      ]
    },
    {
      "cell_type": "code",
      "metadata": {
        "id": "atjFaCzFqth0",
        "colab_type": "code",
        "outputId": "8136f7b8-fafd-49e3-eacb-3c2d4532e290",
        "colab": {
          "base_uri": "https://localhost:8080/",
          "height": 118
        }
      },
      "source": [
        "print(f\"Shape of training set is {x_train.shape}, \\nShape of training target is {y_train.shape}\")\n",
        "print(f\"Shape of validating set is {x_val.shape}, \\nShape of validating target is {y_val.shape}\")\n",
        "print(f\"Shape of testing set is {x_test.shape}, \\nShape of testing target is {y_test.shape}\")"
      ],
      "execution_count": 40,
      "outputs": [
        {
          "output_type": "stream",
          "text": [
            "Shape of training set is (14000, 8), \n",
            "Shape of training target is (14000,)\n",
            "Shape of validating set is (3000, 8), \n",
            "Shape of validating target is (3000,)\n",
            "Shape of testing set is (3000, 8), \n",
            "Shape of testing target is (3000,)\n"
          ],
          "name": "stdout"
        }
      ]
    },
    {
      "cell_type": "markdown",
      "metadata": {
        "id": "d4JF7IGDhEK5",
        "colab_type": "text"
      },
      "source": [
        "Let's import our models and build a LALE pipeline to compute the best model using HyperOpt Library"
      ]
    },
    {
      "cell_type": "code",
      "metadata": {
        "id": "mRGEVIExzOMB",
        "colab_type": "code",
        "colab": {}
      },
      "source": [
        "from sklearn.decomposition import PCA\n",
        "from lale.lib.lale import NoOp\n",
        "from sklearn.linear_model import LogisticRegression as LR\n",
        "from sklearn.ensemble import RandomForestClassifier as RF\n",
        "from xgboost import XGBClassifier as XGBoost\n",
        "from sklearn.svm import SVC\n",
        "from sklearn.tree import DecisionTreeClassifier as DTree\n",
        "from sklearn.neighbors import KNeighborsClassifier as KNN\n",
        "from lale.lib.lale import TopKVotingClassifier\n",
        "from sklearn.metrics import accuracy_score, roc_auc_score\n",
        "from lale.lib.lale import Hyperopt\n",
        "lale.wrap_imported_operators()"
      ],
      "execution_count": 0,
      "outputs": []
    },
    {
      "cell_type": "code",
      "metadata": {
        "id": "UcnR8JCg1j-J",
        "colab_type": "code",
        "outputId": "f1eea77f-c483-4062-9e4b-97531913fbba",
        "colab": {
          "base_uri": "https://localhost:8080/",
          "height": 524
        }
      },
      "source": [
        "planned_pipeline = (NoOp | PCA) >> (LR | RF | XGBoost | SVC | DTree | KNN)\n",
        "ensemble = TopKVotingClassifier(estimator=planned_pipeline)\n",
        "# ensemble = TopKVotingClassifier(\n",
        "#     estimator=planned_pipeline, k=3, optimizer=Hyperopt,\n",
        "#     args_to_optimizer={'max_evals':25, 'scoring':'roc_auc'})\n",
        "ensemble.visualize()"
      ],
      "execution_count": 42,
      "outputs": [
        {
          "output_type": "display_data",
          "data": {
            "text/plain": [
              "<graphviz.dot.Digraph at 0x7f503e3cc2b0>"
            ],
            "image/svg+xml": "<?xml version=\"1.0\" encoding=\"UTF-8\" standalone=\"no\"?>\n<!DOCTYPE svg PUBLIC \"-//W3C//DTD SVG 1.1//EN\"\n \"http://www.w3.org/Graphics/SVG/1.1/DTD/svg11.dtd\">\n<!-- Generated by graphviz version 2.40.1 (20161225.0304)\n -->\n<!-- Title: cluster:(root) Pages: 1 -->\n<svg width=\"216pt\" height=\"377pt\"\n viewBox=\"0.00 0.00 216.00 377.00\" xmlns=\"http://www.w3.org/2000/svg\" xmlns:xlink=\"http://www.w3.org/1999/xlink\">\n<g id=\"graph0\" class=\"graph\" transform=\"scale(1 1) rotate(0) translate(4 373)\">\n<title>cluster:(root)</title>\n<polygon fill=\"#ffffff\" stroke=\"transparent\" points=\"-4,4 -4,-373 212,-373 212,4 -4,4\"/>\n<g id=\"clust1\" class=\"cluster\">\n<title>cluster:(root)</title>\n<g id=\"a_clust1\"><a xlink:href=\"https://lale.readthedocs.io/en/latest/modules/lale.lib.lale.topk_voting_classifier.html\" xlink:title=\"(root) = TopKVotingClassifier(estimator=pipeline)\">\n<polygon fill=\"#b0e2ff\" stroke=\"#000000\" points=\"8,-8 8,-361 200,-361 200,-8 8,-8\"/>\n<text text-anchor=\"middle\" x=\"104\" y=\"-345.8\" font-family=\"Times,serif\" font-size=\"14.00\" fill=\"#000000\">TopKVotingClassifier</text>\n</a>\n</g>\n</g>\n<g id=\"clust2\" class=\"cluster\">\n<title>cluster:pipeline</title>\n<g id=\"a_clust2\"><a xlink:href=\"https://lale.readthedocs.io/en/latest/modules/lale.lib.lale.topk_voting_classifier.html\" xlink:title=\"pipeline = ...\">\n<path fill=\"#7ec0ee\" stroke=\"#000000\" d=\"M28,-16C28,-16 180,-16 180,-16 186,-16 192,-22 192,-28 192,-28 192,-318 192,-318 192,-324 186,-330 180,-330 180,-330 28,-330 28,-330 22,-330 16,-324 16,-318 16,-318 16,-28 16,-28 16,-22 22,-16 28,-16\"/>\n</a>\n</g>\n</g>\n<g id=\"clust3\" class=\"cluster\">\n<title>cluster:choice</title>\n<g id=\"a_clust3\"><a xlink:href=\"https://lale.readthedocs.io/en/latest/modules/lale.lib.lale.topk_voting_classifier.html\" xlink:title=\"choice = no_op | pca\">\n<polygon fill=\"#7ec0ee\" stroke=\"#000000\" points=\"24,-200 24,-322 94,-322 94,-200 24,-200\"/>\n<text text-anchor=\"middle\" x=\"59\" y=\"-306.8\" font-family=\"Times,serif\" font-size=\"14.00\" fill=\"#000000\">Choice</text>\n</a>\n</g>\n</g>\n<g id=\"clust4\" class=\"cluster\">\n<title>cluster:choice_0</title>\n<g id=\"a_clust4\"><a xlink:href=\"https://lale.readthedocs.io/en/latest/modules/lale.lib.lale.topk_voting_classifier.html\" xlink:title=\"choice_0 = lr | rf | xg_boost | svc | d_tree | knn\">\n<polygon fill=\"#7ec0ee\" stroke=\"#000000\" points=\"114,-24 114,-322 184,-322 184,-24 114,-24\"/>\n<text text-anchor=\"middle\" x=\"149\" y=\"-306.8\" font-family=\"Times,serif\" font-size=\"14.00\" fill=\"#000000\">Choice</text>\n</a>\n</g>\n</g>\n<!-- no_op -->\n<g id=\"node1\" class=\"node\">\n<title>no_op</title>\n<g id=\"a_node1\"><a xlink:href=\"https://lale.readthedocs.io/en/latest/modules/lale.lib.lale.no_op.html\" xlink:title=\"no_op = NoOp\">\n<ellipse fill=\"#ffffff\" stroke=\"#000000\" cx=\"59\" cy=\"-271\" rx=\"27\" ry=\"19.6\"/>\n<text text-anchor=\"middle\" x=\"59\" y=\"-274.2\" font-family=\"Times,serif\" font-size=\"11.00\" fill=\"#000000\">No&#45;</text>\n<text text-anchor=\"middle\" x=\"59\" y=\"-262.2\" font-family=\"Times,serif\" font-size=\"11.00\" fill=\"#000000\">Op</text>\n</a>\n</g>\n</g>\n<!-- lr -->\n<g id=\"node3\" class=\"node\">\n<title>lr</title>\n<g id=\"a_node3\"><a xlink:href=\"https://lale.readthedocs.io/en/latest/modules/lale.lib.sklearn.logistic_regression.html\" xlink:title=\"lr = LR\">\n<ellipse fill=\"#7ec0ee\" stroke=\"#000000\" cx=\"149\" cy=\"-273\" rx=\"27\" ry=\"18\"/>\n<text text-anchor=\"middle\" x=\"149\" y=\"-270.2\" font-family=\"Times,serif\" font-size=\"11.00\" fill=\"#000000\">LR</text>\n</a>\n</g>\n</g>\n<!-- no_op&#45;&gt;lr -->\n<g id=\"edge1\" class=\"edge\">\n<title>no_op&#45;&gt;lr</title>\n<path fill=\"none\" stroke=\"#000000\" d=\"M93.9967,-271.7777C99.7458,-271.9055 105.7244,-272.0383 111.5309,-272.1674\"/>\n<polygon fill=\"#000000\" stroke=\"#000000\" points=\"103.7224,-274.9666 114,-272.3934 104.3609,-267.9958 103.7224,-274.9666\"/>\n</g>\n<!-- pca -->\n<g id=\"node2\" class=\"node\">\n<title>pca</title>\n<g id=\"a_node2\"><a xlink:href=\"https://lale.readthedocs.io/en/latest/modules/lale.lib.sklearn.pca.html\" xlink:title=\"pca = PCA\">\n<ellipse fill=\"#7ec0ee\" stroke=\"#000000\" cx=\"59\" cy=\"-226\" rx=\"27\" ry=\"18\"/>\n<text text-anchor=\"middle\" x=\"59\" y=\"-223.2\" font-family=\"Times,serif\" font-size=\"11.00\" fill=\"#000000\">PCA</text>\n</a>\n</g>\n</g>\n<!-- rf -->\n<g id=\"node4\" class=\"node\">\n<title>rf</title>\n<g id=\"a_node4\"><a xlink:href=\"https://lale.readthedocs.io/en/latest/modules/lale.lib.sklearn.random_forest_classifier.html\" xlink:title=\"rf = RF\">\n<ellipse fill=\"#7ec0ee\" stroke=\"#000000\" cx=\"149\" cy=\"-230\" rx=\"27\" ry=\"18\"/>\n<text text-anchor=\"middle\" x=\"149\" y=\"-227.2\" font-family=\"Times,serif\" font-size=\"11.00\" fill=\"#000000\">RF</text>\n</a>\n</g>\n</g>\n<!-- xg_boost -->\n<g id=\"node5\" class=\"node\">\n<title>xg_boost</title>\n<g id=\"a_node5\"><a xlink:href=\"https://xgboost.readthedocs.io/en/latest/python/python_api.html#module-xgboost.sklearn\" xlink:title=\"xg_boost = XGBoost\">\n<ellipse fill=\"#7ec0ee\" stroke=\"#000000\" cx=\"149\" cy=\"-185\" rx=\"27\" ry=\"19.6\"/>\n<text text-anchor=\"middle\" x=\"149\" y=\"-188.2\" font-family=\"Times,serif\" font-size=\"11.00\" fill=\"#000000\">XG&#45;</text>\n<text text-anchor=\"middle\" x=\"149\" y=\"-176.2\" font-family=\"Times,serif\" font-size=\"11.00\" fill=\"#000000\">Boost</text>\n</a>\n</g>\n</g>\n<!-- svc -->\n<g id=\"node6\" class=\"node\">\n<title>svc</title>\n<g id=\"a_node6\"><a xlink:href=\"https://lale.readthedocs.io/en/latest/modules/lale.lib.sklearn.svc.html\" xlink:title=\"svc = SVC\">\n<ellipse fill=\"#7ec0ee\" stroke=\"#000000\" cx=\"149\" cy=\"-140\" rx=\"27\" ry=\"18\"/>\n<text text-anchor=\"middle\" x=\"149\" y=\"-137.2\" font-family=\"Times,serif\" font-size=\"11.00\" fill=\"#000000\">SVC</text>\n</a>\n</g>\n</g>\n<!-- d_tree -->\n<g id=\"node7\" class=\"node\">\n<title>d_tree</title>\n<g id=\"a_node7\"><a xlink:href=\"https://lale.readthedocs.io/en/latest/modules/lale.lib.sklearn.decision_tree_classifier.html\" xlink:title=\"d_tree = DTree\">\n<ellipse fill=\"#7ec0ee\" stroke=\"#000000\" cx=\"149\" cy=\"-95\" rx=\"27\" ry=\"19.6\"/>\n<text text-anchor=\"middle\" x=\"149\" y=\"-98.2\" font-family=\"Times,serif\" font-size=\"11.00\" fill=\"#000000\">D&#45;</text>\n<text text-anchor=\"middle\" x=\"149\" y=\"-86.2\" font-family=\"Times,serif\" font-size=\"11.00\" fill=\"#000000\">Tree</text>\n</a>\n</g>\n</g>\n<!-- knn -->\n<g id=\"node8\" class=\"node\">\n<title>knn</title>\n<g id=\"a_node8\"><a xlink:href=\"https://lale.readthedocs.io/en/latest/modules/lale.lib.sklearn.k_neighbors_classifier.html\" xlink:title=\"knn = KNN\">\n<ellipse fill=\"#7ec0ee\" stroke=\"#000000\" cx=\"149\" cy=\"-50\" rx=\"27\" ry=\"18\"/>\n<text text-anchor=\"middle\" x=\"149\" y=\"-47.2\" font-family=\"Times,serif\" font-size=\"11.00\" fill=\"#000000\">KNN</text>\n</a>\n</g>\n</g>\n</g>\n</svg>\n"
          },
          "metadata": {
            "tags": []
          }
        }
      ]
    },
    {
      "cell_type": "markdown",
      "metadata": {
        "id": "puBKc-RChT2c",
        "colab_type": "text"
      },
      "source": [
        "The above image depicts the smartness of the LALE pipeline object.<br>For each of the six models above, the pipeline decides if it should apply Principal Components Analysis or No Operation, then it optimizes each model and returns the pipeline with the best model. We would then select this ideal model for our classification task.\n",
        "<br>This process is called semi-automated machile learning. "
      ]
    },
    {
      "cell_type": "code",
      "metadata": {
        "id": "gP-lsS7-2EoH",
        "colab_type": "code",
        "colab": {}
      },
      "source": [
        "try:\n",
        "    trained_ensemble = ensemble.fit(x_train, y_train)\n",
        "    print('Trained Successful!')\n",
        "except Exception as e:\n",
        "    print(e)"
      ],
      "execution_count": 0,
      "outputs": []
    },
    {
      "cell_type": "markdown",
      "metadata": {
        "id": "Tta3qnbaiAJl",
        "colab_type": "text"
      },
      "source": [
        "Sadly, LALE keeps failing with error message 'AllTrialsFailed' and this issue has been escalated to the project administrators.\n",
        "<br>The sweet thing about Machine Learning (ML) is that most ML processes are iterative just like the Explainability concept. Therefore we shall build a simple but effective pipeline using Cross-Validation-Score. Then the best model will be selected and optimized even further using GridSearchCV library.\n"
      ]
    },
    {
      "cell_type": "code",
      "metadata": {
        "id": "AMhRknoJh_Pf",
        "colab_type": "code",
        "colab": {}
      },
      "source": [
        "# Let's import cross-val-score and GridSearchCV from sklearn\n",
        "from sklearn.model_selection import cross_val_score\n",
        "from sklearn.model_selection import GridSearchCV"
      ],
      "execution_count": 0,
      "outputs": []
    },
    {
      "cell_type": "markdown",
      "metadata": {
        "id": "BIWlUugJkM4m",
        "colab_type": "text"
      },
      "source": [
        "Next, we evaluate all six models using Cross_Val_score to find the model with the best average score. \n",
        "<br>What cross_val_score does is that it divides the training set into a number of parts. It trains the model on all parts except one, then it uses that part to make a prediction and stores the result somewhere. Then it repeats this process for each of the other parts to ensure every part has been used to train and make predictions. Finally it outputs the mean score for all predictions as score for each model.\n",
        "<br>So we would use this approach to select the model with the best average score per prediction "
      ]
    },
    {
      "cell_type": "markdown",
      "metadata": {
        "id": "z7C1d0s32rMI",
        "colab_type": "text"
      },
      "source": [
        "Let's import our models again, since the last time we wrapped them in a LALE wrapper that failed."
      ]
    },
    {
      "cell_type": "code",
      "metadata": {
        "id": "Wk5fidOMnzzF",
        "colab_type": "code",
        "colab": {}
      },
      "source": [
        "from sklearn.linear_model import LogisticRegression as LR\n",
        "from sklearn.ensemble import RandomForestClassifier as RF\n",
        "from xgboost import XGBClassifier as XGBoost\n",
        "from sklearn.svm import SVC\n",
        "from sklearn.tree import DecisionTreeClassifier as DTree\n",
        "from sklearn.neighbors import KNeighborsClassifier as KNN\n",
        "from sklearn import metrics\n",
        "from sklearn.metrics import accuracy_score, roc_auc_score, f1_score"
      ],
      "execution_count": 0,
      "outputs": []
    },
    {
      "cell_type": "markdown",
      "metadata": {
        "id": "VNwyNU4N28RO",
        "colab_type": "text"
      },
      "source": [
        "Now we apply cross_val_score() function to each model to find the average best model."
      ]
    },
    {
      "cell_type": "code",
      "metadata": {
        "id": "WPwhU6MRqKcY",
        "colab_type": "code",
        "outputId": "2b9c6aee-bae8-4deb-80e0-7ff531ddf5e7",
        "colab": {
          "base_uri": "https://localhost:8080/",
          "height": 118
        }
      },
      "source": [
        "for Model in [LR, RF, XGBoost, SVC, DTree, KNN]:\n",
        "    scores = cross_val_score(Model(), x_train, y_train, cv=7)\n",
        "    print(Model.__name__, scores.mean().round(2), \"+/-\", scores.std().round(2))"
      ],
      "execution_count": 46,
      "outputs": [
        {
          "output_type": "stream",
          "text": [
            "LogisticRegression 0.79 +/- 0.01\n",
            "RandomForestClassifier 0.95 +/- 0.0\n",
            "XGBClassifier 0.95 +/- 0.0\n",
            "SVC 0.87 +/- 0.01\n",
            "DecisionTreeClassifier 0.91 +/- 0.0\n",
            "KNeighborsClassifier 0.87 +/- 0.0\n"
          ],
          "name": "stdout"
        }
      ]
    },
    {
      "cell_type": "markdown",
      "metadata": {
        "id": "mDZ1fr1NhArg",
        "colab_type": "text"
      },
      "source": [
        "So what we just did above is to apply the cross_val_score() function on each of our six models. on our training sets(x_train, y_train)\n",
        "<br>From this exercise we can see that the two best models with mean score of 0.95 are `XGBoost` and `RandomForestClassifier`.\n",
        "<br>Now we shall apply GridSearchCV on these models to fine-tune their hyper-parameters and select the best of the two models.  "
      ]
    },
    {
      "cell_type": "code",
      "metadata": {
        "id": "v__oIGF0shYc",
        "colab_type": "code",
        "outputId": "bf2f1465-4f9f-4983-b433-3414509678ed",
        "colab": {
          "base_uri": "https://localhost:8080/",
          "height": 84
        }
      },
      "source": [
        "depth = [2, 4, 8, 16, 32]\n",
        "estimators = [10,30, 50, 80, 100]\n",
        "selected_models = [RF, XGBoost]\n",
        "\n",
        "# Let's instantiate our RF and XGB models to zero for a start.\n",
        "rf_model, xgb_model = 0,0\n",
        "\n",
        "for Model in selected_models:\n",
        "    grid = GridSearchCV(Model(), cv=7,\n",
        "                    param_grid = {'max_depth': depth,\n",
        "                                  'n_estimators': estimators})\n",
        "    if Model == RF:\n",
        "        rf_model = grid.fit(x_train, y_train)\n",
        "        print(Model.__name__, ': Best score = ',rf_model.best_score_)\n",
        "        print(f\"Type rf_model is {type(rf_model)}\")\n",
        "    else:\n",
        "        xgb_model = grid.fit(x_train, y_train)\n",
        "        print(Model.__name__, ': Best score = ',xgb_model.best_score_)\n",
        "        print(f\"Type xgb_model is {type(xgb_model)}\")"
      ],
      "execution_count": 47,
      "outputs": [
        {
          "output_type": "stream",
          "text": [
            "RandomForestClassifier : Best score =  0.948857142857143\n",
            "Type rf_model is <class 'sklearn.model_selection._search.GridSearchCV'>\n",
            "XGBClassifier : Best score =  0.9632857142857142\n",
            "Type xgb_model is <class 'sklearn.model_selection._search.GridSearchCV'>\n"
          ],
          "name": "stdout"
        }
      ]
    },
    {
      "cell_type": "markdown",
      "metadata": {
        "id": "9sEH8kzf5Doe",
        "colab_type": "text"
      },
      "source": [
        "We can see from the above messages that after applying GridSearchCV to both models, the `XGBoost` model has the best score overall.\n",
        "<br>So we shall use this model to predict on the validation set. and test for accuracy, F1_score and roc_auc scores."
      ]
    },
    {
      "cell_type": "code",
      "metadata": {
        "id": "y6jnTtWD9DPw",
        "colab_type": "code",
        "outputId": "ce5d6717-766e-4ea1-de06-b556557c1b07",
        "colab": {
          "base_uri": "https://localhost:8080/",
          "height": 34
        }
      },
      "source": [
        "# let's just see the best parameters of our winning model.\n",
        "xgb_model.best_params_"
      ],
      "execution_count": 48,
      "outputs": [
        {
          "output_type": "execute_result",
          "data": {
            "text/plain": [
              "{'max_depth': 8, 'n_estimators': 100}"
            ]
          },
          "metadata": {
            "tags": []
          },
          "execution_count": 48
        }
      ]
    },
    {
      "cell_type": "markdown",
      "metadata": {
        "id": "tjHpt1PJlJFQ",
        "colab_type": "text"
      },
      "source": [
        "Now, Let's make a prediction on the validation data."
      ]
    },
    {
      "cell_type": "code",
      "metadata": {
        "id": "ypUqDoFZ7cKt",
        "colab_type": "code",
        "colab": {}
      },
      "source": [
        "pred = xgb_model.predict(x_val)"
      ],
      "execution_count": 0,
      "outputs": []
    },
    {
      "cell_type": "markdown",
      "metadata": {
        "id": "XFf2wW25CB2X",
        "colab_type": "text"
      },
      "source": [
        "Let's define an evaluation method that takes a true label and a prediction and outputs a dictionary of the metrics we care most about."
      ]
    },
    {
      "cell_type": "code",
      "metadata": {
        "id": "IdTP8alkB0gY",
        "colab_type": "code",
        "colab": {}
      },
      "source": [
        "def eval_method(ytrue, ypred):\n",
        "    \"\"\"This method takes a true label and \n",
        "    a prediction of the true label and returns\n",
        "    a dictionary of accuracy, F1 and roc_auc\n",
        "    scores of our model predictions.\n",
        "    \"\"\"\n",
        "    # Let's create a dictionary\n",
        "    eval_dict = {'Accuracy':0, 'F1_Score':0, 'Roc_Auc':0}\n",
        "\n",
        "    # Let's evaluate \n",
        "    eval_dict['Accuracy'] = accuracy_score(ytrue, ypred).round(2)\n",
        "    eval_dict['F1_Score'] = f1_score(ytrue, ypred, average='weighted').round(2)\n",
        "    eval_dict['Roc_Auc'] = roc_auc_score(ytrue, ypred).round(2)\n",
        "\n",
        "    return eval_dict\n"
      ],
      "execution_count": 0,
      "outputs": []
    },
    {
      "cell_type": "markdown",
      "metadata": {
        "id": "AIKSR6fOFux1",
        "colab_type": "text"
      },
      "source": [
        "Let's see the performance metrics of our model on the validation set."
      ]
    },
    {
      "cell_type": "code",
      "metadata": {
        "id": "CFjDtwpEF0Ss",
        "colab_type": "code",
        "outputId": "e971490c-3db3-4f7f-9094-682436a05e39",
        "colab": {
          "base_uri": "https://localhost:8080/",
          "height": 34
        }
      },
      "source": [
        "eval_method(y_val, pred)"
      ],
      "execution_count": 51,
      "outputs": [
        {
          "output_type": "execute_result",
          "data": {
            "text/plain": [
              "{'Accuracy': 0.96, 'F1_Score': 0.96, 'Roc_Auc': 0.96}"
            ]
          },
          "metadata": {
            "tags": []
          },
          "execution_count": 51
        }
      ]
    },
    {
      "cell_type": "markdown",
      "metadata": {
        "id": "MngPTImrheOB",
        "colab_type": "text"
      },
      "source": [
        "<b><h3>Understanding the Model Prediction</h3></b>"
      ]
    },
    {
      "cell_type": "markdown",
      "metadata": {
        "id": "JjeN1yG8GDtS",
        "colab_type": "text"
      },
      "source": [
        "Our model has performed impressively on all the metrics above for the validation dataset. This is great.<br>For a better understanding of the predictions and metrics of our model, let's plot the confusion matrix chart."
      ]
    },
    {
      "cell_type": "markdown",
      "metadata": {
        "id": "FRhgP4tnHKCV",
        "colab_type": "text"
      },
      "source": [
        "<h4>Let's define a function for plotting and visualizing The Confusion matrix</h4>First let's import the confusion matrix metric from sklearn. "
      ]
    },
    {
      "cell_type": "code",
      "metadata": {
        "id": "xGipFD52JE9x",
        "colab_type": "code",
        "colab": {}
      },
      "source": [
        "from sklearn.metrics import confusion_matrix\n",
        "import itertools"
      ],
      "execution_count": 0,
      "outputs": []
    },
    {
      "cell_type": "markdown",
      "metadata": {
        "id": "34r5kp7HJP_J",
        "colab_type": "text"
      },
      "source": [
        "Next let's define a method that plots the confusion matrix object we will instantiate soon."
      ]
    },
    {
      "cell_type": "code",
      "metadata": {
        "id": "cO3AIh4YHBfD",
        "colab_type": "code",
        "colab": {}
      },
      "source": [
        "def plot_confusion_matrix(cm, classes,\n",
        "                          normalize=False,\n",
        "                          title='Confusion matrix',\n",
        "                          cmap=plt.cm.Blues):\n",
        "    \"\"\"\n",
        "    This function prints and plots the confusion matrix.\n",
        "    Normalization can be applied by setting `normalize=True`.\n",
        "    \"\"\"\n",
        "    if normalize:\n",
        "        cm = cm.astype('float') / cm.sum(axis=1)[:, np.newaxis]\n",
        "        print(\"Normalized confusion matrix\")\n",
        "    else:\n",
        "        print('Confusion matrix, without normalization')\n",
        "\n",
        "    print(cm)\n",
        "\n",
        "    plt.imshow(cm, interpolation='nearest', cmap=cmap)\n",
        "    plt.title(title)\n",
        "    plt.colorbar()\n",
        "    tick_marks = np.arange(len(classes))\n",
        "    plt.xticks(tick_marks, classes, rotation=45)\n",
        "    plt.yticks(tick_marks, classes)\n",
        "\n",
        "    fmt = '.2f' if normalize else 'd'\n",
        "    thresh = cm.max() / 2.\n",
        "    for i, j in itertools.product(range(cm.shape[0]), range(cm.shape[1])):\n",
        "        plt.text(j, i, format(cm[i, j], fmt),\n",
        "                 horizontalalignment=\"center\",\n",
        "                 color=\"white\" if cm[i, j] > thresh else \"black\")\n",
        "\n",
        "    plt.tight_layout()\n",
        "    plt.ylabel('True label')\n",
        "    plt.xlabel('Predicted label')"
      ],
      "execution_count": 0,
      "outputs": []
    },
    {
      "cell_type": "markdown",
      "metadata": {
        "id": "LHzsANmUGurF",
        "colab_type": "text"
      },
      "source": [
        "Next, let's instantiate the confusion matrix object and plot it with the data from the predictions \\ evaluations from our model"
      ]
    },
    {
      "cell_type": "code",
      "metadata": {
        "id": "jsEdOqcSH-Uc",
        "colab_type": "code",
        "outputId": "83a77bb3-a416-4326-bb5d-66ea5a42089c",
        "colab": {
          "base_uri": "https://localhost:8080/",
          "height": 498
        }
      },
      "source": [
        "# Instantiating the confusion matrix object\n",
        "xgb_confusion_matrix = confusion_matrix(y_val, pred, labels=[1,0])\n",
        "np.set_printoptions(precision=2)\n",
        "\n",
        "# Plot non-normalized confusion matrix\n",
        "plt.figure(figsize=(10, 6))\n",
        "sns.set(font_scale=1.3)\n",
        "plot_confusion_matrix(xgb_confusion_matrix, \n",
        "                        classes=['Diabetic=1','Non-Diabetic=0'],\n",
        "                        normalize= False,  \n",
        "                        title='Confusion Matrix for Validation Dataset')"
      ],
      "execution_count": 54,
      "outputs": [
        {
          "output_type": "stream",
          "text": [
            "Confusion matrix, without normalization\n",
            "[[1442   58]\n",
            " [  62 1438]]\n"
          ],
          "name": "stdout"
        },
        {
          "output_type": "display_data",
          "data": {
            "image/png": "[encoded data removed]",
            "text/plain": [
              "<Figure size 720x432 with 2 Axes>"
            ]
          },
          "metadata": {
            "tags": []
          }
        }
      ]
    },
    {
      "cell_type": "code",
      "metadata": {
        "id": "DHN0tnCtLhO4",
        "colab_type": "code",
        "outputId": "026bb2b0-99ae-4f7e-a7f0-10ca5a20d4c4",
        "colab": {
          "base_uri": "https://localhost:8080/",
          "height": 34
        }
      },
      "source": [
        "eval_method(y_val, pred)"
      ],
      "execution_count": 55,
      "outputs": [
        {
          "output_type": "execute_result",
          "data": {
            "text/plain": [
              "{'Accuracy': 0.96, 'F1_Score': 0.96, 'Roc_Auc': 0.96}"
            ]
          },
          "metadata": {
            "tags": []
          },
          "execution_count": 55
        }
      ]
    },
    {
      "cell_type": "markdown",
      "metadata": {
        "id": "GAiHTts8RKZS",
        "colab_type": "text"
      },
      "source": [
        "### **Understanding The Confusion Matrix:**"
      ]
    },
    {
      "cell_type": "markdown",
      "metadata": {
        "id": "M9yT_HNjalJl",
        "colab_type": "text"
      },
      "source": [
        "The Confusion Matrix is typically used for binary classification problems but can be used for multi-label classification problems by simply binarizing the output. It gives a more thorugh suite of metrics to evaluate a Classification model. This is because accuracy alone is often inadequate in evaluating a classification task. The Confusion Matrix makes it possible to compute those metrics we care about,  such as _Accuracy_, _F1_score_, _Recall_, _Precision_, _ROC_, _AUC_ and more.\n",
        "\n",
        "**Let’s inspect the cells of The Confusion-Matrix above:**\n",
        "1. _True Positive (TP):_ This is the cell in position [0,0], it's the first blue cell in the Matrix above.<br>True Positive contains the number of positive cases **properly** classified as positive. In other words, the number of Diabetic patients properly classified as Diabetic.\n",
        "<br>\n",
        "<br>\n",
        "2. _False Positive (FP):_ This is the cell in position [0,1], it's the white cell to the right, beside _TP_,in the Matrix above.<br>False Positive contains the number of negative cases **improperly** classified as positive. In other words, the number of Non-Diabetic patients improperly classified as Diabetic.\n",
        "<br>\n",
        "<br>\n",
        "3. _True Negative (TN):_ This is the cell in position [1,1], it's the second blue cell situated directly beneath _FP_ above.<br>True Negative contains the number of negative cases **properly** classified as negative. In other words, the number of Non-Diabetic patients properly classified as Non-Diabetic.\n",
        "<br>\n",
        "<br>\n",
        "4. _False Negative (FN):_ This is the cell in position [1,0], it's the white cell to the left, beside _TN_,in the Matrix above.<br>False Negative contains the number of positive cases **improperly** classified as negative. In other words, the number of Diabetic patients improperly classified as Non-Diabetic."
      ]
    },
    {
      "cell_type": "markdown",
      "metadata": {
        "id": "sJqDAF9Qfr0R",
        "colab_type": "text"
      },
      "source": [
        "From the Confusion Matrix, we can easily compute any of the classification metrics we care about.\n",
        "<br>Let's calculate the accuracy, F1_score and Roc_Auc scores using the confusion matric above "
      ]
    },
    {
      "cell_type": "code",
      "metadata": {
        "id": "Kyd0_IMifVFZ",
        "colab_type": "code",
        "outputId": "032dce90-1a70-4e46-a2d4-066575b0ec51",
        "colab": {
          "base_uri": "https://localhost:8080/",
          "height": 84
        }
      },
      "source": [
        "# First we define our variables\n",
        "TP = xgb_confusion_matrix[0][0]\n",
        "FP = xgb_confusion_matrix[0][1]\n",
        "TN = xgb_confusion_matrix[1][1]\n",
        "FN = xgb_confusion_matrix[1][0]\n",
        "\n",
        "print(f\"TP is {TP}\\nFP is {FP}\\nTN is {TN}\\nFN is {FN}\")"
      ],
      "execution_count": 56,
      "outputs": [
        {
          "output_type": "stream",
          "text": [
            "TP is 1442\n",
            "FP is 58\n",
            "TN is 1438\n",
            "FN is 62\n"
          ],
          "name": "stdout"
        }
      ]
    },
    {
      "cell_type": "markdown",
      "metadata": {
        "id": "5-MgbR2VhPnA",
        "colab_type": "text"
      },
      "source": [
        "<b><h4>Accuracy:</h4></b>\n",
        "Accuracy is simply the fraction of cases correctly classified.<br>Accuracy:-  ${{(TP + TN)} \\over {TP + TN + FP + FN}} * 100$"
      ]
    },
    {
      "cell_type": "code",
      "metadata": {
        "id": "4MqL4ojhhXUp",
        "colab_type": "code",
        "outputId": "9957011e-d487-4968-9976-f2707061642a",
        "colab": {
          "base_uri": "https://localhost:8080/",
          "height": 34
        }
      },
      "source": [
        "accuracy = ((TP + TN) / (TP + TN + FP + FN)) * 100\n",
        "\n",
        "# Let's print the accuracy score, which is what we saw from accuracy_score() func above\n",
        "print(accuracy.round())"
      ],
      "execution_count": 57,
      "outputs": [
        {
          "output_type": "stream",
          "text": [
            "96.0\n"
          ],
          "name": "stdout"
        }
      ]
    },
    {
      "cell_type": "markdown",
      "metadata": {
        "id": "W5DHtS1CjkuX",
        "colab_type": "text"
      },
      "source": [
        "<b><h4>F1_Score:</h4></b>\n",
        "F1_Score is the weighted harmonic mean of Precision and Recall.<br>F1_Score:-  $2 * {{Precision * Recall} \\over {Precision + Recall}}$"
      ]
    },
    {
      "cell_type": "markdown",
      "metadata": {
        "id": "B9ZG3ykPk_oa",
        "colab_type": "text"
      },
      "source": [
        "To Compute the F1_score, we need to first compute _Precision_ and _Recall_ scores.\n",
        "\n",
        "**Precision:** Is the fraction of positive cases correctly classified as positive, from the total number of cases identified as positive by the model.\n",
        "\n",
        "**Recall:** Is the fraction of positive cases correctly classified as positive, from the total number of real positive cases in the data."
      ]
    },
    {
      "cell_type": "code",
      "metadata": {
        "id": "eWC4VpcAjqwv",
        "colab_type": "code",
        "outputId": "bfbc3bba-d407-4444-e5a1-f8d68a42accc",
        "colab": {
          "base_uri": "https://localhost:8080/",
          "height": 50
        }
      },
      "source": [
        "# First, let's compute Precision and Recall\n",
        "Precision = (TP) / (TP + FP)\n",
        "Recall = (TP) / (TP + FN)\n",
        "\n",
        "print(f'Precision is {Precision.round(4)},\\nRecall is {Recall.round(4)}')"
      ],
      "execution_count": 58,
      "outputs": [
        {
          "output_type": "stream",
          "text": [
            "Precision is 0.9613,\n",
            "Recall is 0.9588\n"
          ],
          "name": "stdout"
        }
      ]
    },
    {
      "cell_type": "code",
      "metadata": {
        "id": "B3ZkyO77rzsr",
        "colab_type": "code",
        "outputId": "4bd994d4-2f21-4d64-ad1c-b18893c1de1f",
        "colab": {
          "base_uri": "https://localhost:8080/",
          "height": 34
        }
      },
      "source": [
        "# Next, let's compute F1_Score\n",
        "F1_Score = 2 * ((Precision * Recall) / (Precision + Recall))\n",
        "print(f\"F1_Score is {F1_Score.round(2)}\")"
      ],
      "execution_count": 59,
      "outputs": [
        {
          "output_type": "stream",
          "text": [
            "F1_Score is 0.96\n"
          ],
          "name": "stdout"
        }
      ]
    },
    {
      "cell_type": "markdown",
      "metadata": {
        "id": "oGTFPCWiscOx",
        "colab_type": "text"
      },
      "source": [
        "The F1_Score is a far better metric than mere Accuracy, as it tells us how sensitive our model is to the Diabetic class, as well as it's general performance in classifying cases that are Diabetic.<br>This metric is very important if we want to build a classifier that can be used to effectively classify Diabetic or Non-Diabetic patients. And from this exercise so far, our model is 96% correct on F1_Score."
      ]
    },
    {
      "cell_type": "markdown",
      "metadata": {
        "id": "ScMXb8iztR_h",
        "colab_type": "text"
      },
      "source": [
        "<b><h4>AUC_Score:</h4></b>\n",
        "\n",
        "AUC_Score simply shows the Trade-off between the _True Positive Rate (TPR)_ and the _False Positive rate (FPR)_. The AUC_Score is calculated from the _ROC (Receiver Operator Characteristics) curve_. The _ROC curve_ simply plots all values of the TPR and the FPR and displays a curve. The closer it is to the position 1,1 on the x and y axis, the better the model and the higher the AUC score, with a max score of 1 or 100%. "
      ]
    },
    {
      "cell_type": "markdown",
      "metadata": {
        "id": "XdsHOelNxdw_",
        "colab_type": "text"
      },
      "source": [
        "**_TPR_** shows what fraction of positive cases was correctly classified as positive from total number of positive real cases in the data.<br>**_FPR_** shows what fraction of negative cases was incorrectly classified as positive from the total number of real negative cases in the data set."
      ]
    },
    {
      "cell_type": "code",
      "metadata": {
        "id": "W0U8hIbmtMRv",
        "colab_type": "code",
        "outputId": "94736a95-d1ca-4af8-8637-5599e3b619fb",
        "colab": {
          "base_uri": "https://localhost:8080/",
          "height": 50
        }
      },
      "source": [
        "TPR = Recall  # The TPR is calculated exactly like the Recall\n",
        "FPR = FP / (TN + FP) \n",
        "print(f\"TPR is {TPR}\\nFPR is {FPR}\")"
      ],
      "execution_count": 60,
      "outputs": [
        {
          "output_type": "stream",
          "text": [
            "TPR is 0.9587765957446809\n",
            "FPR is 0.03877005347593583\n"
          ],
          "name": "stdout"
        }
      ]
    },
    {
      "cell_type": "markdown",
      "metadata": {
        "id": "5F5BjERujhMU",
        "colab_type": "text"
      },
      "source": [
        "Let's define a simple function that plots the ROC_curve and displays the AUC_score."
      ]
    },
    {
      "cell_type": "code",
      "metadata": {
        "id": "RwoPDuRuj8Sj",
        "colab_type": "code",
        "colab": {}
      },
      "source": [
        "def plot_roc_curve(model, x_test, y_test, pred):\n",
        "     # calculate the fpr and tpr for all thresholds of the classification\n",
        "    probs = model.predict_proba(x_test)\n",
        "    preds = probs[:,1]\n",
        "    fpr, tpr, threshold = metrics.roc_curve(y_test, pred)\n",
        "    roc_auc = metrics.auc(fpr, tpr)\n",
        "\n",
        "    # method I: plt\n",
        "    plt.figure(figsize=(8,6))\n",
        "    plt.title('Receiver Operating Characteristic')\n",
        "    plt.plot(fpr, tpr, 'b', label = 'AUC = %0.2f' % roc_auc)\n",
        "    plt.legend(loc = 'lower right')\n",
        "    plt.plot([0, 1], [0, 1],'r--')\n",
        "    plt.xlim([0, 1])\n",
        "    plt.ylim([0, 1])\n",
        "    plt.ylabel('True Positive Rate')\n",
        "    plt.xlabel('False Positive Rate')\n",
        "    plt.show()\n",
        "    return None"
      ],
      "execution_count": 0,
      "outputs": []
    },
    {
      "cell_type": "markdown",
      "metadata": {
        "id": "-3yEQYhAliks",
        "colab_type": "text"
      },
      "source": [
        "Let's call the plot_roc_curve method defined above on the XGBoost classifier with the prediections on the validation data"
      ]
    },
    {
      "cell_type": "code",
      "metadata": {
        "id": "nKYy8wIxl7L2",
        "colab_type": "code",
        "colab": {
          "base_uri": "https://localhost:8080/",
          "height": 418
        },
        "outputId": "2dd90e55-6ef5-4587-9136-2b840d07230d"
      },
      "source": [
        "plot_roc_curve(xgb_model, x_val, y_val, pred)"
      ],
      "execution_count": 65,
      "outputs": [
        {
          "output_type": "display_data",
          "data": {
            "image/png": "[encoded data removed]",
            "text/plain": [
              "<Figure size 576x432 with 1 Axes>"
            ]
          },
          "metadata": {
            "tags": []
          }
        }
      ]
    },
    {
      "cell_type": "markdown",
      "metadata": {
        "id": "tJD78volyfas",
        "colab_type": "text"
      },
      "source": [
        "Just like F1_score, AUC_Score is extremely important in evaluating the performance of our model. It clearly shows what percent of positve cases the model identified correctly as well as the percent of negative cases it may have misclassified as positive."
      ]
    },
    {
      "cell_type": "markdown",
      "metadata": {
        "id": "cNQNUNGFzhvs",
        "colab_type": "text"
      },
      "source": [
        "### **Making Predictions on Testing Data**"
      ]
    },
    {
      "cell_type": "code",
      "metadata": {
        "id": "R580c2MOzdB_",
        "colab_type": "code",
        "colab": {}
      },
      "source": [
        ""
      ],
      "execution_count": 0,
      "outputs": []
    }
  ]
}